{
 "cells": [
  {
   "cell_type": "code",
   "execution_count": 1,
   "id": "d004cfa5-60e2-4c0a-87d3-59565ea40b96",
   "metadata": {},
   "outputs": [],
   "source": [
    "import polars as pl\n",
    "import os"
   ]
  },
  {
   "cell_type": "code",
   "execution_count": 2,
   "id": "02949c14-6f72-4591-84b7-e05b61f2a4be",
   "metadata": {},
   "outputs": [
    {
     "data": {
      "text/plain": [
       "<polars.config.Config at 0x11af170ee00>"
      ]
     },
     "execution_count": 2,
     "metadata": {},
     "output_type": "execute_result"
    }
   ],
   "source": [
    "pl.Config(fmt_str_lengths=1000)"
   ]
  },
  {
   "cell_type": "code",
   "execution_count": 3,
   "id": "b0f7eeca-0868-4d34-b6c3-97e91a17025d",
   "metadata": {},
   "outputs": [],
   "source": [
    "files = os.listdir('data/domain')"
   ]
  },
  {
   "cell_type": "code",
   "execution_count": 4,
   "id": "30a0db28-67ed-4045-9023-cb0b5718e9fd",
   "metadata": {},
   "outputs": [],
   "source": [
    "tebo = os.listdir('data/domain')"
   ]
  },
  {
   "cell_type": "code",
   "execution_count": 5,
   "id": "1f3bcf64-5618-46e6-9eeb-a562641f3750",
   "metadata": {},
   "outputs": [
    {
     "name": "stdout",
     "output_type": "stream",
     "text": [
      "estabelecimentos0_silver.parquet\n",
      "estabelecimentos1_silver.parquet\n",
      "estabelecimentos2_silver.parquet\n",
      "estabelecimentos3_silver.parquet\n",
      "estabelecimentos4_silver.parquet\n",
      "estabelecimentos5_silver.parquet\n",
      "estabelecimentos6_silver.parquet\n",
      "estabelecimentos7_silver.parquet\n",
      "estabelecimentos8_silver.parquet\n",
      "estabelecimentos9_silver.parquet\n"
     ]
    }
   ],
   "source": [
    "for parquet in tebo:\n",
    "    if parquet.endswith('.parquet'):\n",
    "        print(parquet)"
   ]
  },
  {
   "cell_type": "code",
   "execution_count": 6,
   "id": "7e5bce58-54cc-4ac1-ae20-d78fb363813d",
   "metadata": {},
   "outputs": [],
   "source": [
    "df_emp = pl.read_parquet(f'data/domain/{files[2]}')"
   ]
  },
  {
   "cell_type": "code",
   "execution_count": 7,
   "id": "deb5649e-3595-4ab4-b38f-710400a2045a",
   "metadata": {},
   "outputs": [
    {
     "data": {
      "text/html": [
       "<div><style>\n",
       ".dataframe > thead > tr,\n",
       ".dataframe > tbody > tr {\n",
       "  text-align: right;\n",
       "  white-space: pre-wrap;\n",
       "}\n",
       "</style>\n",
       "<small>shape: (6, 27)</small><table border=\"1\" class=\"dataframe\"><thead><tr><th>cnpj_completo</th><th>identificador_matriz</th><th>nome_fantasia</th><th>situacao_cadastral</th><th>data_situacao_cadastral</th><th>motivo_situacao_cadastral</th><th>nome_cidade_exterior</th><th>pais</th><th>data_inicio_atividade</th><th>cnae_principal</th><th>cnae_secundario</th><th>numero</th><th>complemento</th><th>bairro</th><th>cep</th><th>uf</th><th>municipio</th><th>ddd_1</th><th>telefone_1</th><th>ddd_2</th><th>telefone_2</th><th>ddd_fax</th><th>fax</th><th>email</th><th>situacao_especial</th><th>data_situacao_especial</th><th>logradouro_completo</th></tr><tr><td>str</td><td>i8</td><td>str</td><td>i8</td><td>date</td><td>i16</td><td>str</td><td>i32</td><td>date</td><td>i64</td><td>list[str]</td><td>str</td><td>str</td><td>str</td><td>str</td><td>cat</td><td>i32</td><td>str</td><td>str</td><td>str</td><td>str</td><td>str</td><td>str</td><td>str</td><td>cat</td><td>date</td><td>str</td></tr></thead><tbody><tr><td>&quot;27875213000113&quot;</td><td>1</td><td>null</td><td>2</td><td>2024-01-18</td><td>0</td><td>&quot;&quot;</td><td>null</td><td>2017-06-01</td><td>9001906</td><td>[&quot;&quot;]</td><td>&quot;120&quot;</td><td>&quot;BLOCO I;APT 03&quot;</td><td>&quot;BAETA NEVES&quot;</td><td>&quot;09760410&quot;</td><td>&quot;SP&quot;</td><td>7075</td><td>&quot;11&quot;</td><td>&quot;23747104&quot;</td><td>null</td><td>null</td><td>&quot;&quot;</td><td>&quot;&quot;</td><td>null</td><td>&quot;&quot;</td><td>null</td><td>&quot;RUA OSEAS DE PAULA CAMPOS&quot;</td></tr><tr><td>&quot;26244670000570&quot;</td><td>2</td><td>&quot;ROTA SERVICE ILHA DO GOVERNADOR&quot;</td><td>8</td><td>2023-02-24</td><td>1</td><td>&quot;&quot;</td><td>null</td><td>2019-11-13</td><td>4541203</td><td>[&quot;4520007,4541204,4541206,4781400&quot;]</td><td>&quot;00529&quot;</td><td>&quot;      LOJ A&quot;</td><td>&quot;JARDIM GUANABARA&quot;</td><td>&quot;21931383&quot;</td><td>&quot;RJ&quot;</td><td>6001</td><td>&quot;21&quot;</td><td>&quot;40404033&quot;</td><td>null</td><td>null</td><td>&quot;&quot;</td><td>&quot;&quot;</td><td>null</td><td>&quot;&quot;</td><td>null</td><td>&quot;ESTRADA DO GALEAO&quot;</td></tr><tr><td>&quot;35509654000120&quot;</td><td>1</td><td>null</td><td>2</td><td>2019-11-13</td><td>0</td><td>&quot;&quot;</td><td>null</td><td>2019-11-13</td><td>5611201</td><td>[&quot;5611203&quot;]</td><td>&quot;510&quot;</td><td>&quot;LETRA A&quot;</td><td>&quot;PEDRINHA&quot;</td><td>&quot;12508010&quot;</td><td>&quot;SP&quot;</td><td>6469</td><td>&quot;12&quot;</td><td>&quot;31276182&quot;</td><td>null</td><td>null</td><td>&quot;&quot;</td><td>&quot;&quot;</td><td>&quot;LCBRJ@TERRA.COM.BR&quot;</td><td>&quot;&quot;</td><td>null</td><td>&quot;ESTRADA PRESIDENTE TANCREDO NEVES&quot;</td></tr><tr><td>&quot;35510044000146&quot;</td><td>1</td><td>null</td><td>2</td><td>2023-01-31</td><td>0</td><td>&quot;&quot;</td><td>null</td><td>2019-11-13</td><td>4772500</td><td>[&quot;&quot;]</td><td>&quot;89&quot;</td><td>null</td><td>&quot;JARDIM PLANALTO&quot;</td><td>&quot;59155256&quot;</td><td>&quot;RN&quot;</td><td>1779</td><td>&quot;84&quot;</td><td>&quot;98566127&quot;</td><td>null</td><td>null</td><td>&quot;&quot;</td><td>&quot;&quot;</td><td>&quot;IRLAFRANCELE@HOTMAIL.COM&quot;</td><td>&quot;&quot;</td><td>null</td><td>&quot;RUA CONCORDE&quot;</td></tr><tr><td>&quot;35510441000118&quot;</td><td>1</td><td>&quot;BAR DO JONAS&quot;</td><td>8</td><td>2019-11-13</td><td>1</td><td>&quot;&quot;</td><td>null</td><td>2019-11-13</td><td>5611204</td><td>[&quot;4729601,4723700,5611201,5611203&quot;]</td><td>&quot;1100&quot;</td><td>&quot;LOJA&quot;</td><td>&quot;MARIA ORTIZ&quot;</td><td>&quot;29070350&quot;</td><td>&quot;ES&quot;</td><td>5705</td><td>&quot;27&quot;</td><td>&quot;99622587&quot;</td><td>null</td><td>null</td><td>&quot;&quot;</td><td>&quot;&quot;</td><td>&quot;MARCELO.NET77@HOTMAIL.COM&quot;</td><td>&quot;&quot;</td><td>null</td><td>&quot;AVENIDA JERONIMO VERVLOET&quot;</td></tr><tr><td>&quot;35510848000145&quot;</td><td>1</td><td>null</td><td>2</td><td>2019-11-13</td><td>0</td><td>&quot;&quot;</td><td>null</td><td>2019-11-13</td><td>1052000</td><td>[&quot;5612100&quot;]</td><td>&quot;3351&quot;</td><td>&quot;CASA;CASA;CASA;CASA&quot;</td><td>&quot;CONSELHEIRO PAULINO&quot;</td><td>&quot;28635010&quot;</td><td>&quot;RJ&quot;</td><td>5867</td><td>&quot;22&quot;</td><td>&quot;98231774&quot;</td><td>null</td><td>null</td><td>&quot;&quot;</td><td>&quot;&quot;</td><td>&quot;JAIMEJUNIOR610@GMAIL.COM&quot;</td><td>&quot;&quot;</td><td>null</td><td>&quot;AVENIDA NOSSA SENHORA DO AMPARO&quot;</td></tr></tbody></table></div>"
      ],
      "text/plain": [
       "shape: (6, 27)\n",
       "┌────────────────┬────────────────────┬────────────────────┬────────────────────┬───┬────────────────────┬───────────────────┬────────────────────┬───────────────────┐\n",
       "│ cnpj_completo  ┆ identificador_matr ┆ nome_fantasia      ┆ situacao_cadastral ┆ … ┆ email              ┆ situacao_especial ┆ data_situacao_espe ┆ logradouro_comple │\n",
       "│ ---            ┆ iz                 ┆ ---                ┆ ---                ┆   ┆ ---                ┆ ---               ┆ cial               ┆ to                │\n",
       "│ str            ┆ ---                ┆ str                ┆ i8                 ┆   ┆ str                ┆ cat               ┆ ---                ┆ ---               │\n",
       "│                ┆ i8                 ┆                    ┆                    ┆   ┆                    ┆                   ┆ date               ┆ str               │\n",
       "╞════════════════╪════════════════════╪════════════════════╪════════════════════╪═══╪════════════════════╪═══════════════════╪════════════════════╪═══════════════════╡\n",
       "│ 27875213000113 ┆ 1                  ┆ null               ┆ 2                  ┆ … ┆ null               ┆                   ┆ null               ┆ RUA OSEAS DE      │\n",
       "│                ┆                    ┆                    ┆                    ┆   ┆                    ┆                   ┆                    ┆ PAULA CAMPOS      │\n",
       "│ 26244670000570 ┆ 2                  ┆ ROTA SERVICE ILHA  ┆ 8                  ┆ … ┆ null               ┆                   ┆ null               ┆ ESTRADA DO GALEAO │\n",
       "│                ┆                    ┆ DO GOVERNADOR      ┆                    ┆   ┆                    ┆                   ┆                    ┆                   │\n",
       "│ 35509654000120 ┆ 1                  ┆ null               ┆ 2                  ┆ … ┆ LCBRJ@TERRA.COM.BR ┆                   ┆ null               ┆ ESTRADA           │\n",
       "│                ┆                    ┆                    ┆                    ┆   ┆                    ┆                   ┆                    ┆ PRESIDENTE        │\n",
       "│                ┆                    ┆                    ┆                    ┆   ┆                    ┆                   ┆                    ┆ TANCREDO NEVES    │\n",
       "│ 35510044000146 ┆ 1                  ┆ null               ┆ 2                  ┆ … ┆ IRLAFRANCELE@HOTMA ┆                   ┆ null               ┆ RUA CONCORDE      │\n",
       "│                ┆                    ┆                    ┆                    ┆   ┆ IL.COM             ┆                   ┆                    ┆                   │\n",
       "│ 35510441000118 ┆ 1                  ┆ BAR DO JONAS       ┆ 8                  ┆ … ┆ MARCELO.NET77@HOTM ┆                   ┆ null               ┆ AVENIDA JERONIMO  │\n",
       "│                ┆                    ┆                    ┆                    ┆   ┆ AIL.COM            ┆                   ┆                    ┆ VERVLOET          │\n",
       "│ 35510848000145 ┆ 1                  ┆ null               ┆ 2                  ┆ … ┆ JAIMEJUNIOR610@GMA ┆                   ┆ null               ┆ AVENIDA NOSSA     │\n",
       "│                ┆                    ┆                    ┆                    ┆   ┆ IL.COM             ┆                   ┆                    ┆ SENHORA DO AMPARO │\n",
       "└────────────────┴────────────────────┴────────────────────┴────────────────────┴───┴────────────────────┴───────────────────┴────────────────────┴───────────────────┘"
      ]
     },
     "execution_count": 7,
     "metadata": {},
     "output_type": "execute_result"
    }
   ],
   "source": [
    "df_emp.head(6)"
   ]
  },
  {
   "cell_type": "code",
   "execution_count": 8,
   "id": "7ef846bb-ad53-42bc-b62a-75d64ab977af",
   "metadata": {},
   "outputs": [],
   "source": [
    "#Cleaning ddd's fields"
   ]
  },
  {
   "cell_type": "code",
   "execution_count": 8,
   "id": "12b5e961-2539-4ec0-b24d-28b8defbdec6",
   "metadata": {},
   "outputs": [],
   "source": [
    "df_emp = df_emp.with_columns(\n",
    "    pl.when(~pl.col('ddd_1').str.contains(\"-?\\d+(?:\\.\\d+)?\")).then(pl.lit(None)).otherwise(pl.col('ddd_1')).alias('ddd1_alias').str.strip_chars().cast(pl.Int32),\n",
    "    pl.when(~pl.col('ddd_2').str.contains(\"-?\\d+(?:\\.\\d+)?\")).then(pl.lit(None)).otherwise(pl.col('ddd_2')).alias('ddd2_alias').str.strip_chars().cast(pl.Int32)\n",
    ").drop(['ddd_1','ddd_2'])"
   ]
  },
  {
   "cell_type": "code",
   "execution_count": 9,
   "id": "116f7cc8-420c-445c-b54f-4120928353f9",
   "metadata": {},
   "outputs": [],
   "source": [
    "### change to matriz / filial"
   ]
  },
  {
   "cell_type": "code",
   "execution_count": 10,
   "id": "9983491d-6678-48a3-b979-0d1b9a08fd03",
   "metadata": {},
   "outputs": [],
   "source": [
    "df_emp = df_emp.with_columns(\n",
    "    pl.col('identificador_matriz').replace([1,2],['matriz','filial']).cast(pl.Categorical)\n",
    ")"
   ]
  },
  {
   "cell_type": "markdown",
   "id": "18b5f820-eb98-476a-8c00-a95d2f2b3b2f",
   "metadata": {},
   "source": [
    "##### Support table - motivo"
   ]
  },
  {
   "cell_type": "code",
   "execution_count": 11,
   "id": "3b9fafe1-93f2-47db-b484-e9e043167c75",
   "metadata": {},
   "outputs": [],
   "source": [
    "support_motivo_path = os.listdir('data/raw/support/motivos/')[0]"
   ]
  },
  {
   "cell_type": "code",
   "execution_count": 12,
   "id": "11ea738e-98a0-4ff7-be03-302e879278c5",
   "metadata": {},
   "outputs": [],
   "source": [
    "motivo_column = [\n",
    "    'situacao_cadastral',\n",
    "    'descricao_motivo'\n",
    "]"
   ]
  },
  {
   "cell_type": "code",
   "execution_count": 13,
   "id": "d5489f32-1263-4888-9f20-0ec573dc0ba9",
   "metadata": {},
   "outputs": [],
   "source": [
    "dtypes_motivo = {\n",
    "    'situacao_cadastral':pl.Int8,\n",
    "    'descricao_motivo':pl.Categorical\n",
    "}"
   ]
  },
  {
   "cell_type": "code",
   "execution_count": 14,
   "id": "8667325f-b204-4578-a0a3-6cd6b22d606d",
   "metadata": {},
   "outputs": [],
   "source": [
    "df_mot = pl.read_csv(f'data/raw/support/motivos/{support_motivo_path}', separator = ';', new_columns = motivo_column,dtypes=dtypes_motivo)"
   ]
  },
  {
   "cell_type": "markdown",
   "id": "e582c373-4c27-45fd-b009-b6e8b675b190",
   "metadata": {},
   "source": [
    "##### Support table - municipios"
   ]
  },
  {
   "cell_type": "code",
   "execution_count": 15,
   "id": "19e52871-10f9-40c2-803c-f3512633453d",
   "metadata": {},
   "outputs": [],
   "source": [
    "support_municipio_path = os.listdir('data/raw/support/municipios/')[0]"
   ]
  },
  {
   "cell_type": "code",
   "execution_count": 16,
   "id": "06c480ba-a34c-45cf-a16c-3075109cb3e8",
   "metadata": {},
   "outputs": [],
   "source": [
    "municipio_column = [\n",
    "    'municipio',\n",
    "    'descricao_municipio'\n",
    "]"
   ]
  },
  {
   "cell_type": "code",
   "execution_count": 17,
   "id": "0b1a651d-8f35-41e2-9577-1ec2869727ae",
   "metadata": {},
   "outputs": [],
   "source": [
    "dtypes_municipio = {\n",
    "    'municipio':pl.Int32\n",
    "}"
   ]
  },
  {
   "cell_type": "code",
   "execution_count": 18,
   "id": "710c0eef-fa10-47c8-b2c9-08272d78d4ba",
   "metadata": {},
   "outputs": [],
   "source": [
    "df_mun = pl.read_csv(f'data/raw/support/municipios/{support_municipio_path}',separator = ';',new_columns = municipio_column, dtypes=dtypes_municipio)"
   ]
  },
  {
   "cell_type": "markdown",
   "id": "7411ea19-0a10-4177-815c-e6d3ff47024d",
   "metadata": {},
   "source": [
    "##### Support table - pais"
   ]
  },
  {
   "cell_type": "code",
   "execution_count": 19,
   "id": "b205a799-c0ca-4dbf-92b4-684464fff3ee",
   "metadata": {},
   "outputs": [],
   "source": [
    "support_pais_path = os.listdir('data/raw/support/paises/')[0]"
   ]
  },
  {
   "cell_type": "code",
   "execution_count": 20,
   "id": "334479ce-055b-464d-bb50-9483d3a04f43",
   "metadata": {},
   "outputs": [],
   "source": [
    "pais_column = [\n",
    "    'pais',\n",
    "    'descricao_pais'\n",
    "]"
   ]
  },
  {
   "cell_type": "code",
   "execution_count": 21,
   "id": "46baa2ac-b611-44ba-a233-39b7cfc37622",
   "metadata": {},
   "outputs": [],
   "source": [
    "dtypes_pais = {\n",
    "    'pais':pl.Int32\n",
    "}"
   ]
  },
  {
   "cell_type": "code",
   "execution_count": 22,
   "id": "0eaa0d4c-782e-480e-8d66-a92c22f563c0",
   "metadata": {},
   "outputs": [],
   "source": [
    "df_paises = pl.read_csv(f'data/raw/support/paises/{support_pais_path}',separator = ';',encoding='latin1', new_columns = pais_column, dtypes=dtypes_pais)"
   ]
  },
  {
   "cell_type": "markdown",
   "id": "ec3d6b5b-9a90-4cd9-b8c8-d3b9c0faeba5",
   "metadata": {},
   "source": [
    "##### Joining data"
   ]
  },
  {
   "cell_type": "code",
   "execution_count": 23,
   "id": "fd9d2bce-b4ed-40f7-81c2-db4227ed618c",
   "metadata": {},
   "outputs": [],
   "source": [
    "#sit. cadastral\n",
    "df_emp = df_emp.join(df_mot, on=\"situacao_cadastral\",how='left')"
   ]
  },
  {
   "cell_type": "code",
   "execution_count": 24,
   "id": "bd0d081e-4cbf-4681-9527-56c279992142",
   "metadata": {},
   "outputs": [],
   "source": [
    "#municipio\n",
    "df_emp = df_emp.join(df_mun, on=\"municipio\",how='left')"
   ]
  },
  {
   "cell_type": "code",
   "execution_count": 25,
   "id": "9c0fb632-fc63-4903-b6ac-a8abfe3d26ce",
   "metadata": {},
   "outputs": [],
   "source": [
    "#paises\n",
    "df_emp = df_emp.join(df_paises, on=\"pais\",how='left')"
   ]
  },
  {
   "cell_type": "code",
   "execution_count": 26,
   "id": "4de9ace4-4dd7-4184-a19c-608b6b9ef93c",
   "metadata": {},
   "outputs": [],
   "source": [
    "select_columns = [\n",
    "    'cnpj_completo',\n",
    "    'nome_fantasia',\n",
    "    'identificador_matriz',\n",
    "    'data_inicio_atividade',\n",
    "    'descricao_pais',\n",
    "    'uf',\n",
    "    'descricao_municipio',\n",
    "    'cep',\n",
    "    'logradouro_completo',\n",
    "    'bairro',\n",
    "    'numero',\n",
    "    'complemento',\n",
    "    'ddd1_alias',\n",
    "    'telefone_1',\n",
    "    'ddd2_alias',\n",
    "    'telefone_2',\n",
    "    'email',\n",
    "    'cnae_principal',\n",
    "    'descricao_motivo'\n",
    "]"
   ]
  },
  {
   "cell_type": "code",
   "execution_count": 27,
   "id": "6c3bfd9e-60da-4231-a222-9f1c626a4764",
   "metadata": {},
   "outputs": [],
   "source": [
    "df_new = df_emp.select(select_columns)"
   ]
  },
  {
   "cell_type": "code",
   "execution_count": 30,
   "id": "48bbce11-df95-4765-b265-6e407bfeb7cd",
   "metadata": {},
   "outputs": [
    {
     "data": {
      "text/html": [
       "<div><style>\n",
       ".dataframe > thead > tr,\n",
       ".dataframe > tbody > tr {\n",
       "  text-align: right;\n",
       "  white-space: pre-wrap;\n",
       "}\n",
       "</style>\n",
       "<small>shape: (14_321, 19)</small><table border=\"1\" class=\"dataframe\"><thead><tr><th>cnpj_completo</th><th>nome_fantasia</th><th>identificador_matriz</th><th>data_inicio_atividade</th><th>descricao_pais</th><th>uf</th><th>descricao_municipio</th><th>cep</th><th>logradouro_completo</th><th>bairro</th><th>numero</th><th>complemento</th><th>ddd1_alias</th><th>telefone_1</th><th>ddd2_alias</th><th>telefone_2</th><th>email</th><th>cnae_principal</th><th>descricao_motivo</th></tr><tr><td>str</td><td>str</td><td>cat</td><td>date</td><td>str</td><td>cat</td><td>str</td><td>str</td><td>str</td><td>str</td><td>str</td><td>str</td><td>i32</td><td>str</td><td>i32</td><td>str</td><td>str</td><td>i64</td><td>cat</td></tr></thead><tbody><tr><td>&quot;35645008000190&quot;</td><td>null</td><td>&quot;matriz&quot;</td><td>2019-11-13</td><td>&quot;ITALIA&quot;</td><td>&quot;EX&quot;</td><td>&quot;EXTERIOR&quot;</td><td>null</td><td>&quot; VIA SAN DONATO&quot;</td><td>&quot;CAP 40127&quot;</td><td>&quot;191&quot;</td><td>null</td><td>null</td><td>null</td><td>null</td><td>null</td><td>&quot;MARCELAGUIMARAES2002@YAHOO.COM.BR&quot;</td><td>6463800</td><td>&quot;INCORPORACAO&quot;</td></tr><tr><td>&quot;35828810000115&quot;</td><td>&quot;SJRD&quot;</td><td>&quot;matriz&quot;</td><td>2019-12-19</td><td>&quot;ESTADOS UNIDOS&quot;</td><td>&quot;EX&quot;</td><td>&quot;EXTERIOR&quot;</td><td>null</td><td>&quot; 251 LITTLE FALLS DRIVE&quot;</td><td>&quot;WILMINGTON&quot;</td><td>&quot;S/N&quot;</td><td>&quot;DELAWARE 19808&quot;</td><td>null</td><td>null</td><td>null</td><td>null</td><td>&quot;CNPJ@ROMERORODRIGUES.COM.BR&quot;</td><td>6462000</td><td>&quot;INCORPORACAO&quot;</td></tr><tr><td>&quot;36102240000144&quot;</td><td>&quot;ACERTA S.L.&quot;</td><td>&quot;matriz&quot;</td><td>2020-01-22</td><td>&quot;ESPANHA&quot;</td><td>&quot;EX&quot;</td><td>&quot;EXTERIOR&quot;</td><td>null</td><td>&quot; CALLE  LOPEZ DE  HOYOS, 35&quot;</td><td>&quot;MADRI&quot;</td><td>&quot;S/N&quot;</td><td>null</td><td>null</td><td>null</td><td>null</td><td>null</td><td>&quot;ARAMALLO@VVRLAW.COM&quot;</td><td>7111100</td><td>&quot;INCORPORACAO&quot;</td></tr><tr><td>&quot;36184438000114&quot;</td><td>&quot;LIV ECO HABITATS&quot;</td><td>&quot;matriz&quot;</td><td>2020-01-29</td><td>&quot;ESTADOS UNIDOS&quot;</td><td>&quot;EX&quot;</td><td>&quot;EXTERIOR&quot;</td><td>null</td><td>&quot; 7901 4TH ST N STE 300&quot;</td><td>&quot;ST. PETERSBURG&quot;</td><td>&quot;S/N&quot;</td><td>&quot;33702&quot;</td><td>null</td><td>null</td><td>null</td><td>null</td><td>&quot;FFT1@YMAIL.COM&quot;</td><td>6462000</td><td>&quot;INCORPORACAO&quot;</td></tr><tr><td>&quot;36201164000124&quot;</td><td>&quot;CUPH&quot;</td><td>&quot;matriz&quot;</td><td>2020-01-30</td><td>&quot;Países Baixos (Holanda)&quot;</td><td>&quot;EX&quot;</td><td>&quot;EXTERIOR&quot;</td><td>null</td><td>&quot; BOOMPJES 270&quot;</td><td>&quot;ROTERDAN&quot;</td><td>&quot;S/N&quot;</td><td>&quot;3011 XZ&quot;</td><td>null</td><td>null</td><td>null</td><td>null</td><td>&quot;FISCAL@CONTROLUNION.COM.BR&quot;</td><td>6462000</td><td>&quot;INCORPORACAO&quot;</td></tr><tr><td>&hellip;</td><td>&hellip;</td><td>&hellip;</td><td>&hellip;</td><td>&hellip;</td><td>&hellip;</td><td>&hellip;</td><td>&hellip;</td><td>&hellip;</td><td>&hellip;</td><td>&hellip;</td><td>&hellip;</td><td>&hellip;</td><td>&hellip;</td><td>&hellip;</td><td>&hellip;</td><td>&hellip;</td><td>&hellip;</td><td>&hellip;</td></tr><tr><td>&quot;27866690000112&quot;</td><td>&quot;TRIBLUE&quot;</td><td>&quot;matriz&quot;</td><td>2017-05-31</td><td>&quot;URUGUAI&quot;</td><td>&quot;EX&quot;</td><td>&quot;EXTERIOR&quot;</td><td>null</td><td>&quot; AVENIDA 18 DE JULIO, 878&quot;</td><td>&quot;MONTEVIDEO&quot;</td><td>&quot;S/N&quot;</td><td>&quot;OFICINA 1204&quot;</td><td>null</td><td>null</td><td>null</td><td>null</td><td>null</td><td>4751201</td><td>&quot;INCORPORACAO&quot;</td></tr><tr><td>&quot;27877079000190&quot;</td><td>null</td><td>&quot;matriz&quot;</td><td>2017-06-01</td><td>&quot;COREIA REPUBLICA DA&quot;</td><td>&quot;EX&quot;</td><td>&quot;EXTERIOR&quot;</td><td>null</td><td>&quot; HSBC BUILDING,37 CHILPAE-RO, JUNG-GU&quot;</td><td>&quot;SEOUL&quot;</td><td>&quot;     0&quot;</td><td>null</td><td>null</td><td>null</td><td>null</td><td>null</td><td>null</td><td>6630400</td><td>&quot;FUSAO&quot;</td></tr><tr><td>&quot;27877546000181&quot;</td><td>&quot;SKY AIRCRAFT B3&quot;</td><td>&quot;matriz&quot;</td><td>2017-06-01</td><td>&quot;IRLANDA&quot;</td><td>&quot;EX&quot;</td><td>&quot;EXTERIOR&quot;</td><td>null</td><td>&quot; 70 SIR JOHN ROGERSON S QUAY&quot;</td><td>&quot;DUBLIN&quot;</td><td>&quot;S/N&quot;</td><td>null</td><td>null</td><td>null</td><td>null</td><td>null</td><td>&quot;BASRAM@BASCHRAMEH.COM.BR&quot;</td><td>6440900</td><td>&quot;INCORPORACAO&quot;</td></tr><tr><td>&quot;27877558000106&quot;</td><td>&quot;CONTINENTAL IND&quot;</td><td>&quot;matriz&quot;</td><td>2017-06-01</td><td>&quot;ESTADOS UNIDOS&quot;</td><td>&quot;EX&quot;</td><td>&quot;EXTERIOR&quot;</td><td>null</td><td>&quot; 733 THIRD AVENUE FLOOR&quot;</td><td>&quot;NEW YORK&quot;</td><td>&quot;21ST&quot;</td><td>&quot;      10017&quot;</td><td>null</td><td>null</td><td>null</td><td>null</td><td>&quot;PDUARTE@STOCCHEFORBES.COM.BR&quot;</td><td>4612500</td><td>&quot;INCORPORACAO&quot;</td></tr><tr><td>&quot;27887250000141&quot;</td><td>&quot;AEROTECH&quot;</td><td>&quot;matriz&quot;</td><td>2017-06-02</td><td>&quot;CHILE&quot;</td><td>&quot;EX&quot;</td><td>&quot;EXTERIOR&quot;</td><td>null</td><td>&quot; RIO ITATA, 9652 - PARQUE INDUSTRIAL ENEA&quot;</td><td>&quot;SANTIAGO&quot;</td><td>&quot;S/N&quot;</td><td>&quot;PUDAHUEL&quot;</td><td>null</td><td>null</td><td>null</td><td>null</td><td>null</td><td>6462000</td><td>&quot;INCORPORACAO&quot;</td></tr></tbody></table></div>"
      ],
      "text/plain": [
       "shape: (14_321, 19)\n",
       "┌────────────────┬──────────────────┬──────────────────────┬───────────────────────┬───┬────────────┬─────────────────────────────┬────────────────┬──────────────────┐\n",
       "│ cnpj_completo  ┆ nome_fantasia    ┆ identificador_matriz ┆ data_inicio_atividade ┆ … ┆ telefone_2 ┆ email                       ┆ cnae_principal ┆ descricao_motivo │\n",
       "│ ---            ┆ ---              ┆ ---                  ┆ ---                   ┆   ┆ ---        ┆ ---                         ┆ ---            ┆ ---              │\n",
       "│ str            ┆ str              ┆ cat                  ┆ date                  ┆   ┆ str        ┆ str                         ┆ i64            ┆ cat              │\n",
       "╞════════════════╪══════════════════╪══════════════════════╪═══════════════════════╪═══╪════════════╪═════════════════════════════╪════════════════╪══════════════════╡\n",
       "│ 35645008000190 ┆ null             ┆ matriz               ┆ 2019-11-13            ┆ … ┆ null       ┆ MARCELAGUIMARAES2002@YAHOO. ┆ 6463800        ┆ INCORPORACAO     │\n",
       "│                ┆                  ┆                      ┆                       ┆   ┆            ┆ COM.BR                      ┆                ┆                  │\n",
       "│ 35828810000115 ┆ SJRD             ┆ matriz               ┆ 2019-12-19            ┆ … ┆ null       ┆ CNPJ@ROMERORODRIGUES.COM.BR ┆ 6462000        ┆ INCORPORACAO     │\n",
       "│ 36102240000144 ┆ ACERTA S.L.      ┆ matriz               ┆ 2020-01-22            ┆ … ┆ null       ┆ ARAMALLO@VVRLAW.COM         ┆ 7111100        ┆ INCORPORACAO     │\n",
       "│ 36184438000114 ┆ LIV ECO HABITATS ┆ matriz               ┆ 2020-01-29            ┆ … ┆ null       ┆ FFT1@YMAIL.COM              ┆ 6462000        ┆ INCORPORACAO     │\n",
       "│ 36201164000124 ┆ CUPH             ┆ matriz               ┆ 2020-01-30            ┆ … ┆ null       ┆ FISCAL@CONTROLUNION.COM.BR  ┆ 6462000        ┆ INCORPORACAO     │\n",
       "│ …              ┆ …                ┆ …                    ┆ …                     ┆ … ┆ …          ┆ …                           ┆ …              ┆ …                │\n",
       "│ 27866690000112 ┆ TRIBLUE          ┆ matriz               ┆ 2017-05-31            ┆ … ┆ null       ┆ null                        ┆ 4751201        ┆ INCORPORACAO     │\n",
       "│ 27877079000190 ┆ null             ┆ matriz               ┆ 2017-06-01            ┆ … ┆ null       ┆ null                        ┆ 6630400        ┆ FUSAO            │\n",
       "│ 27877546000181 ┆ SKY AIRCRAFT B3  ┆ matriz               ┆ 2017-06-01            ┆ … ┆ null       ┆ BASRAM@BASCHRAMEH.COM.BR    ┆ 6440900        ┆ INCORPORACAO     │\n",
       "│ 27877558000106 ┆ CONTINENTAL IND  ┆ matriz               ┆ 2017-06-01            ┆ … ┆ null       ┆ PDUARTE@STOCCHEFORBES.COM.B ┆ 4612500        ┆ INCORPORACAO     │\n",
       "│                ┆                  ┆                      ┆                       ┆   ┆            ┆ R                           ┆                ┆                  │\n",
       "│ 27887250000141 ┆ AEROTECH         ┆ matriz               ┆ 2017-06-02            ┆ … ┆ null       ┆ null                        ┆ 6462000        ┆ INCORPORACAO     │\n",
       "└────────────────┴──────────────────┴──────────────────────┴───────────────────────┴───┴────────────┴─────────────────────────────┴────────────────┴──────────────────┘"
      ]
     },
     "execution_count": 30,
     "metadata": {},
     "output_type": "execute_result"
    }
   ],
   "source": [
    "df_new.filter(pl.col('cep').is_null())"
   ]
  },
  {
   "cell_type": "code",
   "execution_count": null,
   "id": "d965a7d6-1766-4f1e-a134-35084f20c863",
   "metadata": {},
   "outputs": [],
   "source": []
  },
  {
   "cell_type": "code",
   "execution_count": 28,
   "id": "2fd9ebe1-3626-4c39-af68-1f909c115ac4",
   "metadata": {},
   "outputs": [
    {
     "data": {
      "text/html": [
       "<div><style>\n",
       ".dataframe > thead > tr,\n",
       ".dataframe > tbody > tr {\n",
       "  text-align: right;\n",
       "  white-space: pre-wrap;\n",
       "}\n",
       "</style>\n",
       "<small>shape: (0, 19)</small><table border=\"1\" class=\"dataframe\"><thead><tr><th>cnpj_completo</th><th>nome_fantasia</th><th>identificador_matriz</th><th>data_inicio_atividade</th><th>descricao_pais</th><th>uf</th><th>descricao_municipio</th><th>cep</th><th>logradouro_completo</th><th>bairro</th><th>numero</th><th>complemento</th><th>ddd1_alias</th><th>telefone_1</th><th>ddd2_alias</th><th>telefone_2</th><th>email</th><th>cnae_principal</th><th>descricao_motivo</th></tr><tr><td>str</td><td>str</td><td>cat</td><td>date</td><td>str</td><td>cat</td><td>str</td><td>str</td><td>str</td><td>str</td><td>str</td><td>str</td><td>i32</td><td>str</td><td>i32</td><td>str</td><td>str</td><td>i64</td><td>cat</td></tr></thead><tbody></tbody></table></div>"
      ],
      "text/plain": [
       "shape: (0, 19)\n",
       "┌───────────────┬───────────────┬──────────────────────┬───────────────────────┬───┬────────────┬───────┬────────────────┬──────────────────┐\n",
       "│ cnpj_completo ┆ nome_fantasia ┆ identificador_matriz ┆ data_inicio_atividade ┆ … ┆ telefone_2 ┆ email ┆ cnae_principal ┆ descricao_motivo │\n",
       "│ ---           ┆ ---           ┆ ---                  ┆ ---                   ┆   ┆ ---        ┆ ---   ┆ ---            ┆ ---              │\n",
       "│ str           ┆ str           ┆ cat                  ┆ date                  ┆   ┆ str        ┆ str   ┆ i64            ┆ cat              │\n",
       "╞═══════════════╪═══════════════╪══════════════════════╪═══════════════════════╪═══╪════════════╪═══════╪════════════════╪══════════════════╡\n",
       "└───────────────┴───────────────┴──────────────────────┴───────────────────────┴───┴────────────┴───────┴────────────────┴──────────────────┘"
      ]
     },
     "execution_count": 28,
     "metadata": {},
     "output_type": "execute_result"
    }
   ],
   "source": [
    "df_new.filter(pl.col('cep').str.len_chars() < 7)"
   ]
  },
  {
   "cell_type": "code",
   "execution_count": 29,
   "id": "9e3e7143-3bd9-4813-b234-73c40605f522",
   "metadata": {},
   "outputs": [
    {
     "data": {
      "text/html": [
       "<div><style>\n",
       ".dataframe > thead > tr,\n",
       ".dataframe > tbody > tr {\n",
       "  text-align: right;\n",
       "  white-space: pre-wrap;\n",
       "}\n",
       "</style>\n",
       "<small>shape: (4_495_725, 19)</small><table border=\"1\" class=\"dataframe\"><thead><tr><th>cnpj_completo</th><th>nome_fantasia</th><th>identificador_matriz</th><th>data_inicio_atividade</th><th>descricao_pais</th><th>uf</th><th>descricao_municipio</th><th>cep</th><th>logradouro_completo</th><th>bairro</th><th>numero</th><th>complemento</th><th>ddd1_alias</th><th>telefone_1</th><th>ddd2_alias</th><th>telefone_2</th><th>email</th><th>cnae_principal</th><th>descricao_motivo</th></tr><tr><td>str</td><td>str</td><td>cat</td><td>date</td><td>str</td><td>cat</td><td>str</td><td>str</td><td>str</td><td>str</td><td>str</td><td>str</td><td>i32</td><td>str</td><td>i32</td><td>str</td><td>str</td><td>i64</td><td>cat</td></tr></thead><tbody><tr><td>&quot;27875213000113&quot;</td><td>null</td><td>&quot;matriz&quot;</td><td>2017-06-01</td><td>null</td><td>&quot;SP&quot;</td><td>&quot;SAO BERNARDO DO CAMPO&quot;</td><td>&quot;09760410&quot;</td><td>&quot;RUA OSEAS DE PAULA CAMPOS&quot;</td><td>&quot;BAETA NEVES&quot;</td><td>&quot;120&quot;</td><td>&quot;BLOCO I;APT 03&quot;</td><td>11</td><td>&quot;23747104&quot;</td><td>null</td><td>null</td><td>null</td><td>9001906</td><td>&quot;INCORPORACAO&quot;</td></tr><tr><td>&quot;35509654000120&quot;</td><td>null</td><td>&quot;matriz&quot;</td><td>2019-11-13</td><td>null</td><td>&quot;SP&quot;</td><td>&quot;GUARATINGUETA&quot;</td><td>&quot;12508010&quot;</td><td>&quot;ESTRADA PRESIDENTE TANCREDO NEVES&quot;</td><td>&quot;PEDRINHA&quot;</td><td>&quot;510&quot;</td><td>&quot;LETRA A&quot;</td><td>12</td><td>&quot;31276182&quot;</td><td>null</td><td>null</td><td>&quot;LCBRJ@TERRA.COM.BR&quot;</td><td>5611201</td><td>&quot;INCORPORACAO&quot;</td></tr><tr><td>&quot;35510044000146&quot;</td><td>null</td><td>&quot;matriz&quot;</td><td>2019-11-13</td><td>null</td><td>&quot;RN&quot;</td><td>&quot;PARNAMIRIM&quot;</td><td>&quot;59155256&quot;</td><td>&quot;RUA CONCORDE&quot;</td><td>&quot;JARDIM PLANALTO&quot;</td><td>&quot;89&quot;</td><td>null</td><td>84</td><td>&quot;98566127&quot;</td><td>null</td><td>null</td><td>&quot;IRLAFRANCELE@HOTMAIL.COM&quot;</td><td>4772500</td><td>&quot;INCORPORACAO&quot;</td></tr><tr><td>&quot;35510441000118&quot;</td><td>&quot;BAR DO JONAS&quot;</td><td>&quot;matriz&quot;</td><td>2019-11-13</td><td>null</td><td>&quot;ES&quot;</td><td>&quot;VITORIA&quot;</td><td>&quot;29070350&quot;</td><td>&quot;AVENIDA JERONIMO VERVLOET&quot;</td><td>&quot;MARIA ORTIZ&quot;</td><td>&quot;1100&quot;</td><td>&quot;LOJA&quot;</td><td>27</td><td>&quot;99622587&quot;</td><td>null</td><td>null</td><td>&quot;MARCELO.NET77@HOTMAIL.COM&quot;</td><td>5611204</td><td>&quot;TRANSPASSE&quot;</td></tr><tr><td>&quot;35510848000145&quot;</td><td>null</td><td>&quot;matriz&quot;</td><td>2019-11-13</td><td>null</td><td>&quot;RJ&quot;</td><td>&quot;NOVA FRIBURGO&quot;</td><td>&quot;28635010&quot;</td><td>&quot;AVENIDA NOSSA SENHORA DO AMPARO&quot;</td><td>&quot;CONSELHEIRO PAULINO&quot;</td><td>&quot;3351&quot;</td><td>&quot;CASA;CASA;CASA;CASA&quot;</td><td>22</td><td>&quot;98231774&quot;</td><td>null</td><td>null</td><td>&quot;JAIMEJUNIOR610@GMAIL.COM&quot;</td><td>1052000</td><td>&quot;INCORPORACAO&quot;</td></tr><tr><td>&hellip;</td><td>&hellip;</td><td>&hellip;</td><td>&hellip;</td><td>&hellip;</td><td>&hellip;</td><td>&hellip;</td><td>&hellip;</td><td>&hellip;</td><td>&hellip;</td><td>&hellip;</td><td>&hellip;</td><td>&hellip;</td><td>&hellip;</td><td>&hellip;</td><td>&hellip;</td><td>&hellip;</td><td>&hellip;</td><td>&hellip;</td></tr><tr><td>&quot;27893349000156&quot;</td><td>null</td><td>&quot;matriz&quot;</td><td>2017-06-05</td><td>null</td><td>&quot;RJ&quot;</td><td>&quot;PARATY&quot;</td><td>&quot;23970000&quot;</td><td>&quot;RUA Tangara&quot;</td><td>&quot;Cabore&quot;</td><td>&quot;01&quot;</td><td>&quot;APT 01C&quot;</td><td>35</td><td>&quot;33713812&quot;</td><td>null</td><td>null</td><td>&quot;davog.byrne@gmail.com&quot;</td><td>8599603</td><td>&quot;INCORPORACAO&quot;</td></tr><tr><td>&quot;27893365000149&quot;</td><td>&quot;ELIANA FERNANDES&quot;</td><td>&quot;matriz&quot;</td><td>2017-06-05</td><td>null</td><td>&quot;BA&quot;</td><td>&quot;SALVADOR&quot;</td><td>&quot;41820020&quot;</td><td>&quot;AVENIDA TANCREDO NEVES&quot;</td><td>&quot;CAMINHO DAS ARVORES&quot;</td><td>&quot;274&quot;</td><td>&quot;      CENTRO EMP.               IGUATEMI BLOCO B          SALA 734 E 732&quot;</td><td>71</td><td>&quot;99792335&quot;</td><td>null</td><td>null</td><td>&quot;ELIANAFERNANDESMRV@GMAIL.COM&quot;</td><td>6821801</td><td>&quot;CISAO TOTAL&quot;</td></tr><tr><td>&quot;27893378000118&quot;</td><td>null</td><td>&quot;matriz&quot;</td><td>2017-06-05</td><td>null</td><td>&quot;PI&quot;</td><td>&quot;CURRAIS&quot;</td><td>&quot;64905000&quot;</td><td>&quot;COMUNIDADE BREJO DA CONCEICAO&quot;</td><td>&quot;ZONA RURAL&quot;</td><td>&quot;S/N&quot;</td><td>null</td><td>86</td><td>&quot;81839932&quot;</td><td>null</td><td>null</td><td>&quot;LUZIENEDEFRACA092@GMAIL.COM&quot;</td><td>4712100</td><td>&quot;INCORPORACAO&quot;</td></tr><tr><td>&quot;27893391000177&quot;</td><td>&quot;CONTABIL POTENZA&quot;</td><td>&quot;matriz&quot;</td><td>2017-06-05</td><td>null</td><td>&quot;SP&quot;</td><td>&quot;OSASCO&quot;</td><td>&quot;06152010&quot;</td><td>&quot;RUA CESAR LADEIRA&quot;</td><td>&quot;VELOSO&quot;</td><td>&quot;725&quot;</td><td>&quot;CASA&quot;</td><td>11</td><td>&quot;36819507&quot;</td><td>null</td><td>null</td><td>&quot;potencaana@gmail.com&quot;</td><td>6920601</td><td>&quot;TRANSPASSE&quot;</td></tr><tr><td>&quot;27893402000119&quot;</td><td>&quot;PAULA JEFERSON MODAS&quot;</td><td>&quot;matriz&quot;</td><td>2017-06-05</td><td>null</td><td>&quot;MG&quot;</td><td>&quot;JOAO PINHEIRO&quot;</td><td>&quot;38770000&quot;</td><td>&quot;AVENIDA JUCA CORDEIRO&quot;</td><td>&quot;CENTRO&quot;</td><td>&quot;585&quot;</td><td>null</td><td>38</td><td>&quot;99748999&quot;</td><td>null</td><td>null</td><td>&quot;paularafaeladasilvalessa@yahoo.com.br&quot;</td><td>4781400</td><td>&quot;INCORPORACAO&quot;</td></tr></tbody></table></div>"
      ],
      "text/plain": [
       "shape: (4_495_725, 19)\n",
       "┌────────────────┬──────────────────────┬──────────────────────┬───────────────────────┬───┬────────────┬─────────────────────────┬────────────────┬──────────────────┐\n",
       "│ cnpj_completo  ┆ nome_fantasia        ┆ identificador_matriz ┆ data_inicio_atividade ┆ … ┆ telefone_2 ┆ email                   ┆ cnae_principal ┆ descricao_motivo │\n",
       "│ ---            ┆ ---                  ┆ ---                  ┆ ---                   ┆   ┆ ---        ┆ ---                     ┆ ---            ┆ ---              │\n",
       "│ str            ┆ str                  ┆ cat                  ┆ date                  ┆   ┆ str        ┆ str                     ┆ i64            ┆ cat              │\n",
       "╞════════════════╪══════════════════════╪══════════════════════╪═══════════════════════╪═══╪════════════╪═════════════════════════╪════════════════╪══════════════════╡\n",
       "│ 27875213000113 ┆ null                 ┆ matriz               ┆ 2017-06-01            ┆ … ┆ null       ┆ null                    ┆ 9001906        ┆ INCORPORACAO     │\n",
       "│ 35509654000120 ┆ null                 ┆ matriz               ┆ 2019-11-13            ┆ … ┆ null       ┆ LCBRJ@TERRA.COM.BR      ┆ 5611201        ┆ INCORPORACAO     │\n",
       "│ 35510044000146 ┆ null                 ┆ matriz               ┆ 2019-11-13            ┆ … ┆ null       ┆ IRLAFRANCELE@HOTMAIL.CO ┆ 4772500        ┆ INCORPORACAO     │\n",
       "│                ┆                      ┆                      ┆                       ┆   ┆            ┆ M                       ┆                ┆                  │\n",
       "│ 35510441000118 ┆ BAR DO JONAS         ┆ matriz               ┆ 2019-11-13            ┆ … ┆ null       ┆ MARCELO.NET77@HOTMAIL.C ┆ 5611204        ┆ TRANSPASSE       │\n",
       "│                ┆                      ┆                      ┆                       ┆   ┆            ┆ OM                      ┆                ┆                  │\n",
       "│ 35510848000145 ┆ null                 ┆ matriz               ┆ 2019-11-13            ┆ … ┆ null       ┆ JAIMEJUNIOR610@GMAIL.CO ┆ 1052000        ┆ INCORPORACAO     │\n",
       "│                ┆                      ┆                      ┆                       ┆   ┆            ┆ M                       ┆                ┆                  │\n",
       "│ …              ┆ …                    ┆ …                    ┆ …                     ┆ … ┆ …          ┆ …                       ┆ …              ┆ …                │\n",
       "│ 27893349000156 ┆ null                 ┆ matriz               ┆ 2017-06-05            ┆ … ┆ null       ┆ davog.byrne@gmail.com   ┆ 8599603        ┆ INCORPORACAO     │\n",
       "│ 27893365000149 ┆ ELIANA FERNANDES     ┆ matriz               ┆ 2017-06-05            ┆ … ┆ null       ┆ ELIANAFERNANDESMRV@GMAI ┆ 6821801        ┆ CISAO TOTAL      │\n",
       "│                ┆                      ┆                      ┆                       ┆   ┆            ┆ L.COM                   ┆                ┆                  │\n",
       "│ 27893378000118 ┆ null                 ┆ matriz               ┆ 2017-06-05            ┆ … ┆ null       ┆ LUZIENEDEFRACA092@GMAIL ┆ 4712100        ┆ INCORPORACAO     │\n",
       "│                ┆                      ┆                      ┆                       ┆   ┆            ┆ .COM                    ┆                ┆                  │\n",
       "│ 27893391000177 ┆ CONTABIL POTENZA     ┆ matriz               ┆ 2017-06-05            ┆ … ┆ null       ┆ potencaana@gmail.com    ┆ 6920601        ┆ TRANSPASSE       │\n",
       "│ 27893402000119 ┆ PAULA JEFERSON MODAS ┆ matriz               ┆ 2017-06-05            ┆ … ┆ null       ┆ paularafaeladasilvaless ┆ 4781400        ┆ INCORPORACAO     │\n",
       "│                ┆                      ┆                      ┆                       ┆   ┆            ┆ a@yahoo.com.br          ┆                ┆                  │\n",
       "└────────────────┴──────────────────────┴──────────────────────┴───────────────────────┴───┴────────────┴─────────────────────────┴────────────────┴──────────────────┘"
      ]
     },
     "execution_count": 29,
     "metadata": {},
     "output_type": "execute_result"
    }
   ],
   "source": [
    "df_emp.select(select_columns).filter(pl.col('identificador_matriz')=='matriz')"
   ]
  },
  {
   "cell_type": "code",
   "execution_count": 30,
   "id": "83440d70-f3eb-4906-9376-7047459b14e0",
   "metadata": {},
   "outputs": [
    {
     "data": {
      "text/html": [
       "<div><style>\n",
       ".dataframe > thead > tr,\n",
       ".dataframe > tbody > tr {\n",
       "  text-align: right;\n",
       "  white-space: pre-wrap;\n",
       "}\n",
       "</style>\n",
       "<small>shape: (540_289, 2)</small><table border=\"1\" class=\"dataframe\"><thead><tr><th>complemento</th><th>count</th></tr><tr><td>str</td><td>u32</td></tr></thead><tbody><tr><td>null</td><td>2799702</td></tr><tr><td>&quot;CASA&quot;</td><td>206541</td></tr><tr><td>&quot;TERREO&quot;</td><td>37796</td></tr><tr><td>&quot;CONJ&quot;</td><td>33671</td></tr><tr><td>&quot;LOJA&quot;</td><td>33578</td></tr><tr><td>&hellip;</td><td>&hellip;</td></tr><tr><td>&quot;BLOCO 07 APTO 101 - RESIDENCIAL JARDIM COSTA VERDE&quot;</td><td>1</td></tr><tr><td>&quot;ARMZ  15 E 16&quot;</td><td>1</td></tr><tr><td>&quot;QUADRA16                  LOTE  16-17&quot;</td><td>1</td></tr><tr><td>&quot;APT 01C&quot;</td><td>1</td></tr><tr><td>&quot;      CENTRO EMP.               IGUATEMI BLOCO B          SALA 734 E 732&quot;</td><td>1</td></tr></tbody></table></div>"
      ],
      "text/plain": [
       "shape: (540_289, 2)\n",
       "┌──────────────────────────────────────────────────────────────────────────┬─────────┐\n",
       "│ complemento                                                              ┆ count   │\n",
       "│ ---                                                                      ┆ ---     │\n",
       "│ str                                                                      ┆ u32     │\n",
       "╞══════════════════════════════════════════════════════════════════════════╪═════════╡\n",
       "│ null                                                                     ┆ 2799702 │\n",
       "│ CASA                                                                     ┆ 206541  │\n",
       "│ TERREO                                                                   ┆ 37796   │\n",
       "│ CONJ                                                                     ┆ 33671   │\n",
       "│ LOJA                                                                     ┆ 33578   │\n",
       "│ …                                                                        ┆ …       │\n",
       "│ BLOCO 07 APTO 101 - RESIDENCIAL JARDIM COSTA VERDE                       ┆ 1       │\n",
       "│ ARMZ  15 E 16                                                            ┆ 1       │\n",
       "│ QUADRA16                  LOTE  16-17                                    ┆ 1       │\n",
       "│ APT 01C                                                                  ┆ 1       │\n",
       "│       CENTRO EMP.               IGUATEMI BLOCO B          SALA 734 E 732 ┆ 1       │\n",
       "└──────────────────────────────────────────────────────────────────────────┴─────────┘"
      ]
     },
     "execution_count": 30,
     "metadata": {},
     "output_type": "execute_result"
    }
   ],
   "source": [
    "df_new['complemento'].value_counts(sort=True)"
   ]
  },
  {
   "cell_type": "code",
   "execution_count": null,
   "id": "05caf8d6-12d0-40b1-a5a0-c52f851e30d5",
   "metadata": {},
   "outputs": [],
   "source": []
  }
 ],
 "metadata": {
  "kernelspec": {
   "display_name": "Python 3 (ipykernel)",
   "language": "python",
   "name": "python3"
  },
  "language_info": {
   "codemirror_mode": {
    "name": "ipython",
    "version": 3
   },
   "file_extension": ".py",
   "mimetype": "text/x-python",
   "name": "python",
   "nbconvert_exporter": "python",
   "pygments_lexer": "ipython3",
   "version": "3.10.1"
  }
 },
 "nbformat": 4,
 "nbformat_minor": 5
}
