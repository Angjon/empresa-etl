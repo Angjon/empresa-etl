{
 "cells": [
  {
   "cell_type": "code",
   "execution_count": 1,
   "id": "93b8bb93-2972-4e8a-b923-533b43cb3445",
   "metadata": {},
   "outputs": [],
   "source": [
    "import polars as pl\n",
    "import requests\n",
    "from bs4 import BeautifulSoup\n",
    "import os\n",
    "import concurrent.futures\n",
    "import zipfile"
   ]
  },
  {
   "cell_type": "markdown",
   "id": "2758f730-68db-464e-8087-e1f8d0d8bff1",
   "metadata": {},
   "source": [
    "### Get href values for download func"
   ]
  },
  {
   "cell_type": "code",
   "execution_count": 7,
   "id": "5e198bd7-5392-4694-bdcc-a904aa06a261",
   "metadata": {},
   "outputs": [],
   "source": [
    "url = 'https://dados.rfb.gov.br/CNPJ/'"
   ]
  },
  {
   "cell_type": "code",
   "execution_count": 8,
   "id": "84c9e41d-bc29-48c7-b709-e0690f7efdf9",
   "metadata": {},
   "outputs": [],
   "source": [
    "content = requests.get(url)"
   ]
  },
  {
   "cell_type": "code",
   "execution_count": 9,
   "id": "ef72540d-85e5-43e2-b21a-4fe6a76fb424",
   "metadata": {},
   "outputs": [],
   "source": [
    "soup = BeautifulSoup(content.text,'html')"
   ]
  },
  {
   "cell_type": "code",
   "execution_count": 10,
   "id": "4d1b6919-b1da-491d-b59d-b3e7720edb90",
   "metadata": {},
   "outputs": [],
   "source": [
    "estabelecimentos = []\n",
    "for ancor in soup.find_all('a'):\n",
    "    if 'estabelecimentos' in ancor.text.lower():\n",
    "        estabelecimentos.append(ancor['href'])\n",
    "    else:\n",
    "        pass"
   ]
  },
  {
   "cell_type": "code",
   "execution_count": 19,
   "id": "f40c8699-33df-4b11-8328-3b1802273016",
   "metadata": {},
   "outputs": [
    {
     "data": {
      "text/plain": [
       "['Estabelecimentos0.zip',\n",
       " 'Estabelecimentos1.zip',\n",
       " 'Estabelecimentos2.zip',\n",
       " 'Estabelecimentos3.zip',\n",
       " 'Estabelecimentos4.zip',\n",
       " 'Estabelecimentos5.zip',\n",
       " 'Estabelecimentos6.zip',\n",
       " 'Estabelecimentos7.zip',\n",
       " 'Estabelecimentos8.zip',\n",
       " 'Estabelecimentos9.zip']"
      ]
     },
     "execution_count": 19,
     "metadata": {},
     "output_type": "execute_result"
    }
   ],
   "source": [
    "estabelecimentos"
   ]
  },
  {
   "cell_type": "code",
   "execution_count": 22,
   "id": "5377a5d7-c97e-47c0-9104-2f90cd665f22",
   "metadata": {},
   "outputs": [],
   "source": [
    "urls = []\n",
    "for i in estabelecimentos:\n",
    "    url = f'https://dados.rfb.gov.br/CNPJ/{i}'\n",
    "    urls.append(url)"
   ]
  },
  {
   "cell_type": "code",
   "execution_count": 23,
   "id": "13379249-b819-4bc2-be5e-daffe104a28f",
   "metadata": {},
   "outputs": [
    {
     "data": {
      "text/plain": [
       "['https://dados.rfb.gov.br/CNPJ/Estabelecimentos0.zip',\n",
       " 'https://dados.rfb.gov.br/CNPJ/Estabelecimentos1.zip',\n",
       " 'https://dados.rfb.gov.br/CNPJ/Estabelecimentos2.zip',\n",
       " 'https://dados.rfb.gov.br/CNPJ/Estabelecimentos3.zip',\n",
       " 'https://dados.rfb.gov.br/CNPJ/Estabelecimentos4.zip',\n",
       " 'https://dados.rfb.gov.br/CNPJ/Estabelecimentos5.zip',\n",
       " 'https://dados.rfb.gov.br/CNPJ/Estabelecimentos6.zip',\n",
       " 'https://dados.rfb.gov.br/CNPJ/Estabelecimentos7.zip',\n",
       " 'https://dados.rfb.gov.br/CNPJ/Estabelecimentos8.zip',\n",
       " 'https://dados.rfb.gov.br/CNPJ/Estabelecimentos9.zip']"
      ]
     },
     "execution_count": 23,
     "metadata": {},
     "output_type": "execute_result"
    }
   ],
   "source": [
    "urls"
   ]
  },
  {
   "cell_type": "code",
   "execution_count": 28,
   "id": "a246f61b-4cf9-46c4-9a9f-31054d2cfb05",
   "metadata": {},
   "outputs": [],
   "source": [
    "filenames = [lower.lower() for lower in estabelecimentos]"
   ]
  },
  {
   "cell_type": "markdown",
   "id": "8af97c45-c847-424f-bf22-92f73bf85a23",
   "metadata": {},
   "source": [
    "### Download function"
   ]
  },
  {
   "cell_type": "code",
   "execution_count": 33,
   "id": "16d99807-098e-42de-8d61-b4365c31e3fd",
   "metadata": {},
   "outputs": [],
   "source": [
    "def download_file(url, filename):\n",
    "    response = requests.get(url)\n",
    "    if response.status_code == 200:\n",
    "        with open(f'data/raw/{filename}', 'wb') as file:\n",
    "            file.write(response.content)\n",
    "        print(f\"File downloaded successfully as '{filename}'\")\n",
    "    else:\n",
    "        print(f\"Failed to download file from '{url}'\")"
   ]
  },
  {
   "cell_type": "code",
   "execution_count": 34,
   "id": "9b0c9d69-c688-4e1b-b93b-9b0ff390e367",
   "metadata": {},
   "outputs": [],
   "source": [
    "num_threads = min(len(urls),10)"
   ]
  },
  {
   "cell_type": "code",
   "execution_count": 35,
   "id": "bfeb3aed-871e-4210-905d-ebf2104c0609",
   "metadata": {},
   "outputs": [
    {
     "name": "stdout",
     "output_type": "stream",
     "text": [
      "File downloaded successfully as 'estabelecimentos4.zip'\n",
      "File downloaded successfully as 'estabelecimentos1.zip'\n",
      "File downloaded successfully as 'estabelecimentos6.zip'\n",
      "File downloaded successfully as 'estabelecimentos8.zip'\n",
      "File downloaded successfully as 'estabelecimentos7.zip'\n",
      "File downloaded successfully as 'estabelecimentos2.zip'\n",
      "File downloaded successfully as 'estabelecimentos9.zip'\n",
      "File downloaded successfully as 'estabelecimentos5.zip'\n",
      "File downloaded successfully as 'estabelecimentos3.zip'\n",
      "File downloaded successfully as 'estabelecimentos0.zip'\n"
     ]
    }
   ],
   "source": [
    "# Download files using multiple threads\n",
    "with concurrent.futures.ThreadPoolExecutor(max_workers=num_threads) as executor:\n",
    "    executor.map(download_file, urls, filenames)"
   ]
  },
  {
   "cell_type": "markdown",
   "id": "290d626c-da78-49d3-ade4-3f2c97a5b0c1",
   "metadata": {},
   "source": [
    "### Extract files"
   ]
  },
  {
   "cell_type": "code",
   "execution_count": 37,
   "id": "39081fcf-6e09-454e-bee5-4ee05b96b3e6",
   "metadata": {},
   "outputs": [],
   "source": [
    "files = os.listdir('data/raw')"
   ]
  },
  {
   "cell_type": "code",
   "execution_count": 42,
   "id": "8583340f-e857-417e-b3d6-2cbc936c9fcb",
   "metadata": {},
   "outputs": [
    {
     "data": {
      "text/plain": [
       "'estabelecimentos0.zip'"
      ]
     },
     "execution_count": 42,
     "metadata": {},
     "output_type": "execute_result"
    }
   ],
   "source": [
    "files[0]"
   ]
  },
  {
   "cell_type": "code",
   "execution_count": 46,
   "id": "beacf99d-9265-43b8-a9e8-9ab334cd2f1f",
   "metadata": {},
   "outputs": [
    {
     "data": {
      "text/plain": [
       "'estabelecimentos0'"
      ]
     },
     "execution_count": 46,
     "metadata": {},
     "output_type": "execute_result"
    }
   ],
   "source": [
    "files[0].split('.')[0]"
   ]
  },
  {
   "cell_type": "code",
   "execution_count": 47,
   "id": "f859cac6-a2d2-48e5-9887-73731c8070eb",
   "metadata": {},
   "outputs": [
    {
     "name": "stdout",
     "output_type": "stream",
     "text": [
      "Done\n",
      "Done\n",
      "Done\n",
      "Done\n",
      "Done\n",
      "Done\n",
      "Done\n",
      "Done\n",
      "Done\n",
      "Done\n"
     ]
    }
   ],
   "source": [
    "for file in files:\n",
    "    if file.endswith('.zip'):\n",
    "        file_name = file.split('.')[0]\n",
    "        file_path = os.path.join('data/raw',file)\n",
    "        with zipfile.ZipFile(file_path,'r') as zip_ref:\n",
    "            zip_ref.extractall(f'data/raw/extract/{file_name}')\n",
    "        print('Done')"
   ]
  },
  {
   "cell_type": "markdown",
   "id": "72b1339f-52e8-4154-82fb-91f8861c71bd",
   "metadata": {},
   "source": [
    "### Data exploration"
   ]
  },
  {
   "cell_type": "code",
   "execution_count": 2,
   "id": "02382b57-6239-4815-83cb-58212fe72798",
   "metadata": {},
   "outputs": [
    {
     "data": {
      "text/plain": [
       "<polars.config.Config at 0x130dc7afc10>"
      ]
     },
     "execution_count": 2,
     "metadata": {},
     "output_type": "execute_result"
    }
   ],
   "source": [
    "pl.Config(tbl_width_chars=1000)\n",
    "pl.Config.set_tbl_width_chars(None)\n",
    "pl.Config.set_fmt_str_lengths(1000)\n",
    "pl.Config(fmt_str_lengths=1000)"
   ]
  },
  {
   "cell_type": "code",
   "execution_count": 3,
   "id": "670fac5e-701c-48ec-965d-4b007aa96f63",
   "metadata": {},
   "outputs": [],
   "source": [
    "emp_file = os.listdir('data/raw/extract/estabelecimentos0/')"
   ]
  },
  {
   "cell_type": "code",
   "execution_count": 4,
   "id": "5ec002af-5aa2-4519-b743-4e97aad8d501",
   "metadata": {},
   "outputs": [],
   "source": [
    "new_columns = [\n",
    "    'cnpj_basic',\n",
    "    'cnpj_order',\n",
    "    'cnpj_dv',\n",
    "    'identificador_matriz',\n",
    "    'nome_fantasia',\n",
    "    'situacao_cadastral',\n",
    "    'data_situacao_cadastral',\n",
    "    'motivo_situacao_cadastral',\n",
    "    'nome_cidade_exterior',\n",
    "    'pais',\n",
    "    'data_inicio_atividade',\n",
    "    'cnae_principal',\n",
    "    'cnae_secundario',\n",
    "    'tipo_logradouro',\n",
    "    'logradouro',\n",
    "    'numero',\n",
    "    'complemento',\n",
    "    'bairro',\n",
    "    'cep',\n",
    "    'uf',\n",
    "    'municipio',\n",
    "    'ddd_1',\n",
    "    'telefone_1',\n",
    "    'ddd_2',\n",
    "    'telefone_2',\n",
    "    'ddd_fax',\n",
    "    'fax',\n",
    "    'email',\n",
    "    'situacao_especial',\n",
    "    'data_situacao_especial'\n",
    "]"
   ]
  },
  {
   "cell_type": "code",
   "execution_count": 5,
   "id": "182b12b2-09c6-4c4c-a999-d0ccf6c15d72",
   "metadata": {},
   "outputs": [],
   "source": [
    "dtypes = {\n",
    "    'cnpj_basic':pl.String,\n",
    "    'cnpj_order':pl.String,\n",
    "    'cnpj_dv':pl.String,\n",
    "    'data_situacao_cadastral':pl.String,\n",
    "    'identificador_matriz':pl.Int8,\n",
    "    'situacao_cadastral':pl.Int8,\n",
    "    'data_inicio_atividade':pl.String,\n",
    "    'motivo_situacao_cadastral': pl.Int16,\n",
    "    'pais': pl.Int32,\n",
    "    'cnae_principal': pl.String,\n",
    "    'cep': pl.String,\n",
    "    'uf': pl.Categorical,\n",
    "    'municipio': pl.Int32,\n",
    "    'situacao_especial': pl.Categorical\n",
    "}"
   ]
  },
  {
   "cell_type": "code",
   "execution_count": 6,
   "id": "04b3e3e7-6921-490a-b8c7-57b8a92f1ce7",
   "metadata": {},
   "outputs": [],
   "source": [
    "df_emp = pl.read_csv(F'data/raw/extract/estabelecimentos0/{emp_file[0]}', encoding = 'latin-1', separator = ';', has_header=False , new_columns = new_columns, dtypes=dtypes)"
   ]
  },
  {
   "cell_type": "code",
   "execution_count": 7,
   "id": "0f5098c5-039a-47d6-a204-8364e1f6a64a",
   "metadata": {},
   "outputs": [
    {
     "data": {
      "text/html": [
       "<div><style>\n",
       ".dataframe > thead > tr,\n",
       ".dataframe > tbody > tr {\n",
       "  text-align: right;\n",
       "  white-space: pre-wrap;\n",
       "}\n",
       "</style>\n",
       "<small>shape: (5, 30)</small><table border=\"1\" class=\"dataframe\"><thead><tr><th>cnpj_basic</th><th>cnpj_order</th><th>cnpj_dv</th><th>identificador_matriz</th><th>nome_fantasia</th><th>situacao_cadastral</th><th>data_situacao_cadastral</th><th>motivo_situacao_cadastral</th><th>nome_cidade_exterior</th><th>pais</th><th>data_inicio_atividade</th><th>cnae_principal</th><th>cnae_secundario</th><th>tipo_logradouro</th><th>logradouro</th><th>numero</th><th>complemento</th><th>bairro</th><th>cep</th><th>uf</th><th>municipio</th><th>ddd_1</th><th>telefone_1</th><th>ddd_2</th><th>telefone_2</th><th>ddd_fax</th><th>fax</th><th>email</th><th>situacao_especial</th><th>data_situacao_especial</th></tr><tr><td>str</td><td>str</td><td>str</td><td>i8</td><td>str</td><td>i8</td><td>str</td><td>i16</td><td>str</td><td>i32</td><td>str</td><td>str</td><td>str</td><td>str</td><td>str</td><td>str</td><td>str</td><td>str</td><td>str</td><td>cat</td><td>i32</td><td>str</td><td>str</td><td>str</td><td>str</td><td>str</td><td>str</td><td>str</td><td>cat</td><td>str</td></tr></thead><tbody><tr><td>&quot;63950158&quot;</td><td>&quot;0001&quot;</td><td>&quot;42&quot;</td><td>1</td><td>&quot;CINTHYA&quot;</td><td>8</td><td>&quot;20210728&quot;</td><td>1</td><td>&quot;&quot;</td><td>null</td><td>&quot;19900720&quot;</td><td>&quot;1094500&quot;</td><td>&quot;&quot;</td><td>&quot;RUA&quot;</td><td>&quot;MANUEL GARCIA&quot;</td><td>&quot;354&quot;</td><td>&quot;&quot;</td><td>&quot;VILA BARUEL&quot;</td><td>&quot;02523040&quot;</td><td>&quot;SP&quot;</td><td>7107</td><td>&quot;&quot;</td><td>&quot;&quot;</td><td>&quot;&quot;</td><td>&quot;&quot;</td><td>&quot;&quot;</td><td>&quot;&quot;</td><td>&quot;&quot;</td><td>&quot;&quot;</td><td>&quot;&quot;</td></tr><tr><td>&quot;26711226&quot;</td><td>&quot;0001&quot;</td><td>&quot;94&quot;</td><td>1</td><td>&quot;AGROPASTORIL REUNIDAS BAHIA&quot;</td><td>8</td><td>&quot;19940831&quot;</td><td>9</td><td>&quot;&quot;</td><td>null</td><td>&quot;19900821&quot;</td><td>&quot;4774100&quot;</td><td>&quot;&quot;</td><td>&quot;RODOVIA&quot;</td><td>&quot;MUNIC ILHA DO BANANAL&quot;</td><td>&quot;SN&quot;</td><td>&quot;ESQUERDA&quot;</td><td>&quot;ZONA RURAL&quot;</td><td>&quot;76590000&quot;</td><td>&quot;GO&quot;</td><td>9601</td><td>&quot;&quot;</td><td>&quot;&quot;</td><td>&quot;&quot;</td><td>&quot;&quot;</td><td>&quot;&quot;</td><td>&quot;&quot;</td><td>&quot;&quot;</td><td>&quot;&quot;</td><td>&quot;&quot;</td></tr><tr><td>&quot;63950216&quot;</td><td>&quot;0001&quot;</td><td>&quot;38&quot;</td><td>1</td><td>&quot;&quot;</td><td>8</td><td>&quot;20081231&quot;</td><td>71</td><td>&quot;&quot;</td><td>null</td><td>&quot;19900719&quot;</td><td>&quot;8888888&quot;</td><td>&quot;&quot;</td><td>&quot;RUA&quot;</td><td>&quot;GAL JERONIMO FURTADO&quot;</td><td>&quot;277&quot;</td><td>&quot;&quot;</td><td>&quot;JARDIM CABUCU&quot;</td><td>&quot;02237000&quot;</td><td>&quot;SP&quot;</td><td>7107</td><td>&quot;&quot;</td><td>&quot;&quot;</td><td>&quot;&quot;</td><td>&quot;&quot;</td><td>&quot;&quot;</td><td>&quot;&quot;</td><td>&quot;&quot;</td><td>&quot;&quot;</td><td>&quot;&quot;</td></tr><tr><td>&quot;63950224&quot;</td><td>&quot;0001&quot;</td><td>&quot;84&quot;</td><td>1</td><td>&quot;&quot;</td><td>8</td><td>&quot;20080414&quot;</td><td>1</td><td>&quot;&quot;</td><td>null</td><td>&quot;19900720&quot;</td><td>&quot;5611203&quot;</td><td>&quot;&quot;</td><td>&quot;RUA&quot;</td><td>&quot;MANOEL CAETANO DE GODOY&quot;</td><td>&quot;500&quot;</td><td>&quot;&quot;</td><td>&quot;JARDIM UBIRAMA&quot;</td><td>&quot;18683540&quot;</td><td>&quot;SP&quot;</td><td>6637</td><td>&quot;&quot;</td><td>&quot;&quot;</td><td>&quot;&quot;</td><td>&quot;&quot;</td><td>&quot;&quot;</td><td>&quot;&quot;</td><td>&quot;&quot;</td><td>&quot;&quot;</td><td>&quot;&quot;</td></tr><tr><td>&quot;63950364&quot;</td><td>&quot;0001&quot;</td><td>&quot;52&quot;</td><td>1</td><td>&quot;&quot;</td><td>8</td><td>&quot;19920527&quot;</td><td>1</td><td>&quot;&quot;</td><td>null</td><td>&quot;19900720&quot;</td><td>&quot;8888888&quot;</td><td>&quot;&quot;</td><td>&quot;AVENIDA&quot;</td><td>&quot;CEL JOSE PIRES ANDRADE&quot;</td><td>&quot;101&quot;</td><td>&quot;&quot;</td><td>&quot;VILA VERA&quot;</td><td>&quot;08210040&quot;</td><td>&quot;SP&quot;</td><td>7107</td><td>&quot;&quot;</td><td>&quot;&quot;</td><td>&quot;&quot;</td><td>&quot;&quot;</td><td>&quot;&quot;</td><td>&quot;&quot;</td><td>&quot;&quot;</td><td>&quot;&quot;</td><td>&quot;&quot;</td></tr></tbody></table></div>"
      ],
      "text/plain": [
       "shape: (5, 30)\n",
       "┌────────────┬────────────┬─────────┬──────────────────────┬───┬─────┬───────┬───────────────────┬────────────────────────┐\n",
       "│ cnpj_basic ┆ cnpj_order ┆ cnpj_dv ┆ identificador_matriz ┆ … ┆ fax ┆ email ┆ situacao_especial ┆ data_situacao_especial │\n",
       "│ ---        ┆ ---        ┆ ---     ┆ ---                  ┆   ┆ --- ┆ ---   ┆ ---               ┆ ---                    │\n",
       "│ str        ┆ str        ┆ str     ┆ i8                   ┆   ┆ str ┆ str   ┆ cat               ┆ str                    │\n",
       "╞════════════╪════════════╪═════════╪══════════════════════╪═══╪═════╪═══════╪═══════════════════╪════════════════════════╡\n",
       "│ 63950158   ┆ 0001       ┆ 42      ┆ 1                    ┆ … ┆     ┆       ┆                   ┆                        │\n",
       "│ 26711226   ┆ 0001       ┆ 94      ┆ 1                    ┆ … ┆     ┆       ┆                   ┆                        │\n",
       "│ 63950216   ┆ 0001       ┆ 38      ┆ 1                    ┆ … ┆     ┆       ┆                   ┆                        │\n",
       "│ 63950224   ┆ 0001       ┆ 84      ┆ 1                    ┆ … ┆     ┆       ┆                   ┆                        │\n",
       "│ 63950364   ┆ 0001       ┆ 52      ┆ 1                    ┆ … ┆     ┆       ┆                   ┆                        │\n",
       "└────────────┴────────────┴─────────┴──────────────────────┴───┴─────┴───────┴───────────────────┴────────────────────────┘"
      ]
     },
     "execution_count": 7,
     "metadata": {},
     "output_type": "execute_result"
    }
   ],
   "source": [
    "df_emp.head(5)"
   ]
  },
  {
   "cell_type": "code",
   "execution_count": 8,
   "id": "93f6e070-c39f-49f6-9728-612dc3746fc1",
   "metadata": {},
   "outputs": [
    {
     "data": {
      "text/plain": [
       "2453.304832458496"
      ]
     },
     "execution_count": 8,
     "metadata": {},
     "output_type": "execute_result"
    }
   ],
   "source": [
    "df_emp.estimated_size(\"mb\")"
   ]
  },
  {
   "cell_type": "code",
   "execution_count": 9,
   "id": "2ee5d223-f619-43ba-9c2b-bde1acfd1951",
   "metadata": {},
   "outputs": [],
   "source": [
    "# Change it to pl.Categorical"
   ]
  },
  {
   "cell_type": "code",
   "execution_count": 10,
   "id": "26e700a2-1a53-4cf9-b464-c0baa5460a3f",
   "metadata": {},
   "outputs": [
    {
     "data": {
      "text/html": [
       "<div><style>\n",
       ".dataframe > thead > tr,\n",
       ".dataframe > tbody > tr {\n",
       "  text-align: right;\n",
       "  white-space: pre-wrap;\n",
       "}\n",
       "</style>\n",
       "<small>shape: (4,)</small><table border=\"1\" class=\"dataframe\"><thead><tr><th>situacao_especial</th></tr><tr><td>cat</td></tr></thead><tbody><tr><td>&quot;ESPOLIO EV 407&quot;</td></tr><tr><td>&quot;FALIDO&quot;</td></tr><tr><td>&quot;EM LIQUIDACAO&quot;</td></tr><tr><td>&quot;RECUPERACAO JUDICIAL&quot;</td></tr></tbody></table></div>"
      ],
      "text/plain": [
       "shape: (4,)\n",
       "Series: 'situacao_especial' [cat]\n",
       "[\n",
       "\t\"ESPOLIO EV 407\"\n",
       "\t\"FALIDO\"\n",
       "\t\"EM LIQUIDACAO\"\n",
       "\t\"RECUPERACAO JUDICIAL\"\n",
       "]"
      ]
     },
     "execution_count": 10,
     "metadata": {},
     "output_type": "execute_result"
    }
   ],
   "source": [
    "df_emp.filter(pl.col('situacao_especial') != \"\")['situacao_especial'].unique()"
   ]
  },
  {
   "cell_type": "markdown",
   "id": "b6f97db9-e596-468b-bb3d-46ad1b82d063",
   "metadata": {},
   "source": [
    "### Change date types"
   ]
  },
  {
   "cell_type": "code",
   "execution_count": null,
   "id": "5cd4f5ec-953b-48bd-b33e-6a1b3a8097e2",
   "metadata": {},
   "outputs": [],
   "source": [
    "# data_situacao_cadastral / data_inicio_atividade / data_situacao_especial"
   ]
  },
  {
   "cell_type": "code",
   "execution_count": 11,
   "id": "a196b01f-32b0-472c-a9d4-0f695a7f65cc",
   "metadata": {},
   "outputs": [],
   "source": [
    "df_emp = df_emp.with_columns(\n",
    "    pl.col('data_situacao_cadastral').str.strptime(pl.Date,'%Y %m %d',strict=False).cast(pl.Date),\n",
    "    pl.col('data_inicio_atividade').str.strptime(pl.Date,'%Y %m %d',strict=False).cast(pl.Date),\n",
    "    pl.col('data_situacao_especial').str.strptime(pl.Date,'%Y %m %d',strict=False).cast(pl.Date)\n",
    ")"
   ]
  },
  {
   "cell_type": "code",
   "execution_count": 9,
   "id": "46e09418-1db0-4c59-8247-ea51a95295f1",
   "metadata": {},
   "outputs": [
    {
     "data": {
      "text/html": [
       "<div><style>\n",
       ".dataframe > thead > tr,\n",
       ".dataframe > tbody > tr {\n",
       "  text-align: right;\n",
       "  white-space: pre-wrap;\n",
       "}\n",
       "</style>\n",
       "<small>shape: (5, 30)</small><table border=\"1\" class=\"dataframe\"><thead><tr><th>cnpj_basic</th><th>cnpj_order</th><th>cnpj_dv</th><th>identificador_matriz</th><th>nome_fantasia</th><th>situacao_cadastral</th><th>data_situacao_cadastral</th><th>motivo_situacao_cadastral</th><th>nome_cidade_exterior</th><th>pais</th><th>data_inicio_atividade</th><th>cnae_principal</th><th>cnae_secundario</th><th>tipo_logradouro</th><th>logradouro</th><th>numero</th><th>complemento</th><th>bairro</th><th>cep</th><th>uf</th><th>municipio</th><th>ddd_1</th><th>telefone_1</th><th>ddd_2</th><th>telefone_2</th><th>ddd_fax</th><th>fax</th><th>email</th><th>situacao_especial</th><th>data_situacao_especial</th></tr><tr><td>str</td><td>str</td><td>str</td><td>i8</td><td>str</td><td>i8</td><td>date</td><td>i16</td><td>str</td><td>i32</td><td>date</td><td>str</td><td>str</td><td>str</td><td>str</td><td>str</td><td>str</td><td>str</td><td>str</td><td>cat</td><td>i32</td><td>str</td><td>str</td><td>str</td><td>str</td><td>str</td><td>str</td><td>str</td><td>cat</td><td>date</td></tr></thead><tbody><tr><td>&quot;63950158&quot;</td><td>&quot;0001&quot;</td><td>&quot;42&quot;</td><td>1</td><td>&quot;CINTHYA&quot;</td><td>8</td><td>2021-07-28</td><td>1</td><td>&quot;&quot;</td><td>null</td><td>1990-07-20</td><td>&quot;1094500&quot;</td><td>&quot;&quot;</td><td>&quot;RUA&quot;</td><td>&quot;MANUEL GARCIA&quot;</td><td>&quot;354&quot;</td><td>&quot;&quot;</td><td>&quot;VILA BARUEL&quot;</td><td>&quot;02523040&quot;</td><td>&quot;SP&quot;</td><td>7107</td><td>&quot;&quot;</td><td>&quot;&quot;</td><td>&quot;&quot;</td><td>&quot;&quot;</td><td>&quot;&quot;</td><td>&quot;&quot;</td><td>&quot;&quot;</td><td>&quot;&quot;</td><td>null</td></tr><tr><td>&quot;26711226&quot;</td><td>&quot;0001&quot;</td><td>&quot;94&quot;</td><td>1</td><td>&quot;AGROPASTORIL REUNIDAS BAHIA&quot;</td><td>8</td><td>1994-08-31</td><td>9</td><td>&quot;&quot;</td><td>null</td><td>1990-08-21</td><td>&quot;4774100&quot;</td><td>&quot;&quot;</td><td>&quot;RODOVIA&quot;</td><td>&quot;MUNIC ILHA DO BANANAL&quot;</td><td>&quot;SN&quot;</td><td>&quot;ESQUERDA&quot;</td><td>&quot;ZONA RURAL&quot;</td><td>&quot;76590000&quot;</td><td>&quot;GO&quot;</td><td>9601</td><td>&quot;&quot;</td><td>&quot;&quot;</td><td>&quot;&quot;</td><td>&quot;&quot;</td><td>&quot;&quot;</td><td>&quot;&quot;</td><td>&quot;&quot;</td><td>&quot;&quot;</td><td>null</td></tr><tr><td>&quot;63950216&quot;</td><td>&quot;0001&quot;</td><td>&quot;38&quot;</td><td>1</td><td>&quot;&quot;</td><td>8</td><td>2008-12-31</td><td>71</td><td>&quot;&quot;</td><td>null</td><td>1990-07-19</td><td>&quot;8888888&quot;</td><td>&quot;&quot;</td><td>&quot;RUA&quot;</td><td>&quot;GAL JERONIMO FURTADO&quot;</td><td>&quot;277&quot;</td><td>&quot;&quot;</td><td>&quot;JARDIM CABUCU&quot;</td><td>&quot;02237000&quot;</td><td>&quot;SP&quot;</td><td>7107</td><td>&quot;&quot;</td><td>&quot;&quot;</td><td>&quot;&quot;</td><td>&quot;&quot;</td><td>&quot;&quot;</td><td>&quot;&quot;</td><td>&quot;&quot;</td><td>&quot;&quot;</td><td>null</td></tr><tr><td>&quot;63950224&quot;</td><td>&quot;0001&quot;</td><td>&quot;84&quot;</td><td>1</td><td>&quot;&quot;</td><td>8</td><td>2008-04-14</td><td>1</td><td>&quot;&quot;</td><td>null</td><td>1990-07-20</td><td>&quot;5611203&quot;</td><td>&quot;&quot;</td><td>&quot;RUA&quot;</td><td>&quot;MANOEL CAETANO DE GODOY&quot;</td><td>&quot;500&quot;</td><td>&quot;&quot;</td><td>&quot;JARDIM UBIRAMA&quot;</td><td>&quot;18683540&quot;</td><td>&quot;SP&quot;</td><td>6637</td><td>&quot;&quot;</td><td>&quot;&quot;</td><td>&quot;&quot;</td><td>&quot;&quot;</td><td>&quot;&quot;</td><td>&quot;&quot;</td><td>&quot;&quot;</td><td>&quot;&quot;</td><td>null</td></tr><tr><td>&quot;63950364&quot;</td><td>&quot;0001&quot;</td><td>&quot;52&quot;</td><td>1</td><td>&quot;&quot;</td><td>8</td><td>1992-05-27</td><td>1</td><td>&quot;&quot;</td><td>null</td><td>1990-07-20</td><td>&quot;8888888&quot;</td><td>&quot;&quot;</td><td>&quot;AVENIDA&quot;</td><td>&quot;CEL JOSE PIRES ANDRADE&quot;</td><td>&quot;101&quot;</td><td>&quot;&quot;</td><td>&quot;VILA VERA&quot;</td><td>&quot;08210040&quot;</td><td>&quot;SP&quot;</td><td>7107</td><td>&quot;&quot;</td><td>&quot;&quot;</td><td>&quot;&quot;</td><td>&quot;&quot;</td><td>&quot;&quot;</td><td>&quot;&quot;</td><td>&quot;&quot;</td><td>&quot;&quot;</td><td>null</td></tr></tbody></table></div>"
      ],
      "text/plain": [
       "shape: (5, 30)\n",
       "┌────────────┬────────────┬─────────┬──────────────────────┬───┬─────┬───────┬───────────────────┬────────────────────────┐\n",
       "│ cnpj_basic ┆ cnpj_order ┆ cnpj_dv ┆ identificador_matriz ┆ … ┆ fax ┆ email ┆ situacao_especial ┆ data_situacao_especial │\n",
       "│ ---        ┆ ---        ┆ ---     ┆ ---                  ┆   ┆ --- ┆ ---   ┆ ---               ┆ ---                    │\n",
       "│ str        ┆ str        ┆ str     ┆ i8                   ┆   ┆ str ┆ str   ┆ cat               ┆ date                   │\n",
       "╞════════════╪════════════╪═════════╪══════════════════════╪═══╪═════╪═══════╪═══════════════════╪════════════════════════╡\n",
       "│ 63950158   ┆ 0001       ┆ 42      ┆ 1                    ┆ … ┆     ┆       ┆                   ┆ null                   │\n",
       "│ 26711226   ┆ 0001       ┆ 94      ┆ 1                    ┆ … ┆     ┆       ┆                   ┆ null                   │\n",
       "│ 63950216   ┆ 0001       ┆ 38      ┆ 1                    ┆ … ┆     ┆       ┆                   ┆ null                   │\n",
       "│ 63950224   ┆ 0001       ┆ 84      ┆ 1                    ┆ … ┆     ┆       ┆                   ┆ null                   │\n",
       "│ 63950364   ┆ 0001       ┆ 52      ┆ 1                    ┆ … ┆     ┆       ┆                   ┆ null                   │\n",
       "└────────────┴────────────┴─────────┴──────────────────────┴───┴─────┴───────┴───────────────────┴────────────────────────┘"
      ]
     },
     "execution_count": 9,
     "metadata": {},
     "output_type": "execute_result"
    }
   ],
   "source": [
    "df_emp.head(5)"
   ]
  },
  {
   "cell_type": "markdown",
   "id": "ac0c8291-488f-4bdf-a53c-3146ed4d1a3e",
   "metadata": {},
   "source": [
    "### Concating cnpj to a single column and logradouro / change cnae secundario type"
   ]
  },
  {
   "cell_type": "code",
   "execution_count": 12,
   "id": "5801873c-ca56-4a5e-8e2e-53267194beed",
   "metadata": {},
   "outputs": [],
   "source": [
    "df_emp = df_emp.with_columns(\n",
    "    pl.concat_str(\n",
    "        [\n",
    "            pl.col(\"cnpj_basic\"),\n",
    "            pl.col(\"cnpj_order\"),\n",
    "            pl.col(\"cnpj_dv\"),\n",
    "        ]\n",
    "    ).alias(\"cnpj_completo\"),\n",
    "    pl.concat_str(\n",
    "        [\n",
    "            pl.col(\"tipo_logradouro\"),\n",
    "            pl.col(\"logradouro\")\n",
    "        ],\n",
    "        separator = \" \",\n",
    "    ).alias(\"logradouro_completo\"),\n",
    "    pl.col('cnae_secundario').cast(pl.List(pl.Utf8))\n",
    ")"
   ]
  },
  {
   "cell_type": "code",
   "execution_count": 13,
   "id": "b75190b8-afae-44e0-b0c9-4e7456c54863",
   "metadata": {},
   "outputs": [],
   "source": [
    "df_emp = df_emp.drop(['cnpj_basic','cnpj_order','cnpj_dv','tipo_logradouro','logradouro'])"
   ]
  },
  {
   "cell_type": "code",
   "execution_count": 14,
   "id": "6ecadfdc-7d5e-4a6f-bd71-f785f4a221f6",
   "metadata": {},
   "outputs": [
    {
     "data": {
      "text/html": [
       "<div><style>\n",
       ".dataframe > thead > tr,\n",
       ".dataframe > tbody > tr {\n",
       "  text-align: right;\n",
       "  white-space: pre-wrap;\n",
       "}\n",
       "</style>\n",
       "<small>shape: (2, 27)</small><table border=\"1\" class=\"dataframe\"><thead><tr><th>identificador_matriz</th><th>nome_fantasia</th><th>situacao_cadastral</th><th>data_situacao_cadastral</th><th>motivo_situacao_cadastral</th><th>nome_cidade_exterior</th><th>pais</th><th>data_inicio_atividade</th><th>cnae_principal</th><th>cnae_secundario</th><th>numero</th><th>complemento</th><th>bairro</th><th>cep</th><th>uf</th><th>municipio</th><th>ddd_1</th><th>telefone_1</th><th>ddd_2</th><th>telefone_2</th><th>ddd_fax</th><th>fax</th><th>email</th><th>situacao_especial</th><th>data_situacao_especial</th><th>cnpj_completo</th><th>logradouro_completo</th></tr><tr><td>i8</td><td>str</td><td>i8</td><td>date</td><td>i16</td><td>str</td><td>i32</td><td>date</td><td>str</td><td>list[str]</td><td>str</td><td>str</td><td>str</td><td>str</td><td>cat</td><td>i32</td><td>str</td><td>str</td><td>str</td><td>str</td><td>str</td><td>str</td><td>str</td><td>cat</td><td>date</td><td>str</td><td>str</td></tr></thead><tbody><tr><td>1</td><td>&quot;CINTHYA&quot;</td><td>8</td><td>2021-07-28</td><td>1</td><td>&quot;&quot;</td><td>null</td><td>1990-07-20</td><td>&quot;1094500&quot;</td><td>[&quot;&quot;]</td><td>&quot;354&quot;</td><td>&quot;&quot;</td><td>&quot;VILA BARUEL&quot;</td><td>&quot;02523040&quot;</td><td>&quot;SP&quot;</td><td>7107</td><td>&quot;&quot;</td><td>&quot;&quot;</td><td>&quot;&quot;</td><td>&quot;&quot;</td><td>&quot;&quot;</td><td>&quot;&quot;</td><td>&quot;&quot;</td><td>&quot;&quot;</td><td>null</td><td>&quot;63950158000142&quot;</td><td>&quot;RUA MANUEL GARCIA&quot;</td></tr><tr><td>1</td><td>&quot;AGROPASTORIL REUNIDAS BAHIA&quot;</td><td>8</td><td>1994-08-31</td><td>9</td><td>&quot;&quot;</td><td>null</td><td>1990-08-21</td><td>&quot;4774100&quot;</td><td>[&quot;&quot;]</td><td>&quot;SN&quot;</td><td>&quot;ESQUERDA&quot;</td><td>&quot;ZONA RURAL&quot;</td><td>&quot;76590000&quot;</td><td>&quot;GO&quot;</td><td>9601</td><td>&quot;&quot;</td><td>&quot;&quot;</td><td>&quot;&quot;</td><td>&quot;&quot;</td><td>&quot;&quot;</td><td>&quot;&quot;</td><td>&quot;&quot;</td><td>&quot;&quot;</td><td>null</td><td>&quot;26711226000194&quot;</td><td>&quot;RODOVIA MUNIC ILHA DO BANANAL&quot;</td></tr></tbody></table></div>"
      ],
      "text/plain": [
       "shape: (2, 27)\n",
       "┌───────────────────┬───────────────────┬───────────────────┬───────────────────┬───┬───────────────────┬───────────────────┬────────────────┬──────────────────┐\n",
       "│ identificador_mat ┆ nome_fantasia     ┆ situacao_cadastra ┆ data_situacao_cad ┆ … ┆ situacao_especial ┆ data_situacao_esp ┆ cnpj_completo  ┆ logradouro_compl │\n",
       "│ riz               ┆ ---               ┆ l                 ┆ astral            ┆   ┆ ---               ┆ ecial             ┆ ---            ┆ eto              │\n",
       "│ ---               ┆ str               ┆ ---               ┆ ---               ┆   ┆ cat               ┆ ---               ┆ str            ┆ ---              │\n",
       "│ i8                ┆                   ┆ i8                ┆ date              ┆   ┆                   ┆ date              ┆                ┆ str              │\n",
       "╞═══════════════════╪═══════════════════╪═══════════════════╪═══════════════════╪═══╪═══════════════════╪═══════════════════╪════════════════╪══════════════════╡\n",
       "│ 1                 ┆ CINTHYA           ┆ 8                 ┆ 2021-07-28        ┆ … ┆                   ┆ null              ┆ 63950158000142 ┆ RUA MANUEL       │\n",
       "│                   ┆                   ┆                   ┆                   ┆   ┆                   ┆                   ┆                ┆ GARCIA           │\n",
       "│ 1                 ┆ AGROPASTORIL      ┆ 8                 ┆ 1994-08-31        ┆ … ┆                   ┆ null              ┆ 26711226000194 ┆ RODOVIA MUNIC    │\n",
       "│                   ┆ REUNIDAS BAHIA    ┆                   ┆                   ┆   ┆                   ┆                   ┆                ┆ ILHA DO BANANAL  │\n",
       "└───────────────────┴───────────────────┴───────────────────┴───────────────────┴───┴───────────────────┴───────────────────┴────────────────┴──────────────────┘"
      ]
     },
     "execution_count": 14,
     "metadata": {},
     "output_type": "execute_result"
    }
   ],
   "source": [
    "df_emp.head(2)"
   ]
  },
  {
   "cell_type": "markdown",
   "id": "ce1d4f3e-4f3a-4a20-ad41-ebaa8ae59fef",
   "metadata": {},
   "source": [
    "#### Re ordering"
   ]
  },
  {
   "cell_type": "code",
   "execution_count": 15,
   "id": "d512c732-156c-4f3d-b8e9-cfd3179740d4",
   "metadata": {},
   "outputs": [],
   "source": [
    "df_emp = df_emp.select(['cnpj_completo'] + [col for col in df_emp.columns if col not in ['cnpj_completo']])"
   ]
  },
  {
   "cell_type": "code",
   "execution_count": 16,
   "id": "fc8cec02-8dee-450f-a500-675a0b1eccbc",
   "metadata": {},
   "outputs": [
    {
     "data": {
      "text/html": [
       "<div><style>\n",
       ".dataframe > thead > tr,\n",
       ".dataframe > tbody > tr {\n",
       "  text-align: right;\n",
       "  white-space: pre-wrap;\n",
       "}\n",
       "</style>\n",
       "<small>shape: (5, 27)</small><table border=\"1\" class=\"dataframe\"><thead><tr><th>cnpj_completo</th><th>identificador_matriz</th><th>nome_fantasia</th><th>situacao_cadastral</th><th>data_situacao_cadastral</th><th>motivo_situacao_cadastral</th><th>nome_cidade_exterior</th><th>pais</th><th>data_inicio_atividade</th><th>cnae_principal</th><th>cnae_secundario</th><th>numero</th><th>complemento</th><th>bairro</th><th>cep</th><th>uf</th><th>municipio</th><th>ddd_1</th><th>telefone_1</th><th>ddd_2</th><th>telefone_2</th><th>ddd_fax</th><th>fax</th><th>email</th><th>situacao_especial</th><th>data_situacao_especial</th><th>logradouro_completo</th></tr><tr><td>str</td><td>i8</td><td>str</td><td>i8</td><td>date</td><td>i16</td><td>str</td><td>i32</td><td>date</td><td>str</td><td>list[str]</td><td>str</td><td>str</td><td>str</td><td>str</td><td>cat</td><td>i32</td><td>str</td><td>str</td><td>str</td><td>str</td><td>str</td><td>str</td><td>str</td><td>cat</td><td>date</td><td>str</td></tr></thead><tbody><tr><td>&quot;63950158000142&quot;</td><td>1</td><td>&quot;CINTHYA&quot;</td><td>8</td><td>2021-07-28</td><td>1</td><td>&quot;&quot;</td><td>null</td><td>1990-07-20</td><td>&quot;1094500&quot;</td><td>[&quot;&quot;]</td><td>&quot;354&quot;</td><td>&quot;&quot;</td><td>&quot;VILA BARUEL&quot;</td><td>&quot;02523040&quot;</td><td>&quot;SP&quot;</td><td>7107</td><td>&quot;&quot;</td><td>&quot;&quot;</td><td>&quot;&quot;</td><td>&quot;&quot;</td><td>&quot;&quot;</td><td>&quot;&quot;</td><td>&quot;&quot;</td><td>&quot;&quot;</td><td>null</td><td>&quot;RUA MANUEL GARCIA&quot;</td></tr><tr><td>&quot;26711226000194&quot;</td><td>1</td><td>&quot;AGROPASTORIL REUNIDAS BAHIA&quot;</td><td>8</td><td>1994-08-31</td><td>9</td><td>&quot;&quot;</td><td>null</td><td>1990-08-21</td><td>&quot;4774100&quot;</td><td>[&quot;&quot;]</td><td>&quot;SN&quot;</td><td>&quot;ESQUERDA&quot;</td><td>&quot;ZONA RURAL&quot;</td><td>&quot;76590000&quot;</td><td>&quot;GO&quot;</td><td>9601</td><td>&quot;&quot;</td><td>&quot;&quot;</td><td>&quot;&quot;</td><td>&quot;&quot;</td><td>&quot;&quot;</td><td>&quot;&quot;</td><td>&quot;&quot;</td><td>&quot;&quot;</td><td>null</td><td>&quot;RODOVIA MUNIC ILHA DO BANANAL&quot;</td></tr><tr><td>&quot;63950216000138&quot;</td><td>1</td><td>&quot;&quot;</td><td>8</td><td>2008-12-31</td><td>71</td><td>&quot;&quot;</td><td>null</td><td>1990-07-19</td><td>&quot;8888888&quot;</td><td>[&quot;&quot;]</td><td>&quot;277&quot;</td><td>&quot;&quot;</td><td>&quot;JARDIM CABUCU&quot;</td><td>&quot;02237000&quot;</td><td>&quot;SP&quot;</td><td>7107</td><td>&quot;&quot;</td><td>&quot;&quot;</td><td>&quot;&quot;</td><td>&quot;&quot;</td><td>&quot;&quot;</td><td>&quot;&quot;</td><td>&quot;&quot;</td><td>&quot;&quot;</td><td>null</td><td>&quot;RUA GAL JERONIMO FURTADO&quot;</td></tr><tr><td>&quot;63950224000184&quot;</td><td>1</td><td>&quot;&quot;</td><td>8</td><td>2008-04-14</td><td>1</td><td>&quot;&quot;</td><td>null</td><td>1990-07-20</td><td>&quot;5611203&quot;</td><td>[&quot;&quot;]</td><td>&quot;500&quot;</td><td>&quot;&quot;</td><td>&quot;JARDIM UBIRAMA&quot;</td><td>&quot;18683540&quot;</td><td>&quot;SP&quot;</td><td>6637</td><td>&quot;&quot;</td><td>&quot;&quot;</td><td>&quot;&quot;</td><td>&quot;&quot;</td><td>&quot;&quot;</td><td>&quot;&quot;</td><td>&quot;&quot;</td><td>&quot;&quot;</td><td>null</td><td>&quot;RUA MANOEL CAETANO DE GODOY&quot;</td></tr><tr><td>&quot;63950364000152&quot;</td><td>1</td><td>&quot;&quot;</td><td>8</td><td>1992-05-27</td><td>1</td><td>&quot;&quot;</td><td>null</td><td>1990-07-20</td><td>&quot;8888888&quot;</td><td>[&quot;&quot;]</td><td>&quot;101&quot;</td><td>&quot;&quot;</td><td>&quot;VILA VERA&quot;</td><td>&quot;08210040&quot;</td><td>&quot;SP&quot;</td><td>7107</td><td>&quot;&quot;</td><td>&quot;&quot;</td><td>&quot;&quot;</td><td>&quot;&quot;</td><td>&quot;&quot;</td><td>&quot;&quot;</td><td>&quot;&quot;</td><td>&quot;&quot;</td><td>null</td><td>&quot;AVENIDA CEL JOSE PIRES ANDRADE&quot;</td></tr></tbody></table></div>"
      ],
      "text/plain": [
       "shape: (5, 27)\n",
       "┌────────────────┬────────────────────────┬────────────────┬────────────────────┬───┬───────┬───────────────────┬───────────────────────┬───────────────────────┐\n",
       "│ cnpj_completo  ┆ identificador_matriz   ┆ nome_fantasia  ┆ situacao_cadastral ┆ … ┆ email ┆ situacao_especial ┆ data_situacao_especia ┆ logradouro_completo   │\n",
       "│ ---            ┆ ---                    ┆ ---            ┆ ---                ┆   ┆ ---   ┆ ---               ┆ l                     ┆ ---                   │\n",
       "│ str            ┆ i8                     ┆ str            ┆ i8                 ┆   ┆ str   ┆ cat               ┆ ---                   ┆ str                   │\n",
       "│                ┆                        ┆                ┆                    ┆   ┆       ┆                   ┆ date                  ┆                       │\n",
       "╞════════════════╪════════════════════════╪════════════════╪════════════════════╪═══╪═══════╪═══════════════════╪═══════════════════════╪═══════════════════════╡\n",
       "│ 63950158000142 ┆ 1                      ┆ CINTHYA        ┆ 8                  ┆ … ┆       ┆                   ┆ null                  ┆ RUA MANUEL GARCIA     │\n",
       "│ 26711226000194 ┆ 1                      ┆ AGROPASTORIL   ┆ 8                  ┆ … ┆       ┆                   ┆ null                  ┆ RODOVIA MUNIC ILHA DO │\n",
       "│                ┆                        ┆ REUNIDAS BAHIA ┆                    ┆   ┆       ┆                   ┆                       ┆ BANANAL               │\n",
       "│ 63950216000138 ┆ 1                      ┆                ┆ 8                  ┆ … ┆       ┆                   ┆ null                  ┆ RUA GAL JERONIMO      │\n",
       "│                ┆                        ┆                ┆                    ┆   ┆       ┆                   ┆                       ┆ FURTADO               │\n",
       "│ 63950224000184 ┆ 1                      ┆                ┆ 8                  ┆ … ┆       ┆                   ┆ null                  ┆ RUA MANOEL CAETANO DE │\n",
       "│                ┆                        ┆                ┆                    ┆   ┆       ┆                   ┆                       ┆ GODOY                 │\n",
       "│ 63950364000152 ┆ 1                      ┆                ┆ 8                  ┆ … ┆       ┆                   ┆ null                  ┆ AVENIDA CEL JOSE      │\n",
       "│                ┆                        ┆                ┆                    ┆   ┆       ┆                   ┆                       ┆ PIRES ANDRADE         │\n",
       "└────────────────┴────────────────────────┴────────────────┴────────────────────┴───┴───────┴───────────────────┴───────────────────────┴───────────────────────┘"
      ]
     },
     "execution_count": 16,
     "metadata": {},
     "output_type": "execute_result"
    }
   ],
   "source": [
    "df_emp.head(5)"
   ]
  },
  {
   "cell_type": "code",
   "execution_count": 17,
   "id": "92300fa2-1981-4569-b8b8-b6457c0ac8b5",
   "metadata": {},
   "outputs": [
    {
     "data": {
      "text/plain": [
       "2.4788410095497966"
      ]
     },
     "execution_count": 17,
     "metadata": {},
     "output_type": "execute_result"
    }
   ],
   "source": [
    "df_emp.estimated_size(\"gb\")"
   ]
  },
  {
   "cell_type": "code",
   "execution_count": null,
   "id": "499d634f-df4e-441e-9f26-4975bc63c0c4",
   "metadata": {},
   "outputs": [],
   "source": []
  }
 ],
 "metadata": {
  "kernelspec": {
   "display_name": "Python 3 (ipykernel)",
   "language": "python",
   "name": "python3"
  },
  "language_info": {
   "codemirror_mode": {
    "name": "ipython",
    "version": 3
   },
   "file_extension": ".py",
   "mimetype": "text/x-python",
   "name": "python",
   "nbconvert_exporter": "python",
   "pygments_lexer": "ipython3",
   "version": "3.10.1"
  }
 },
 "nbformat": 4,
 "nbformat_minor": 5
}
