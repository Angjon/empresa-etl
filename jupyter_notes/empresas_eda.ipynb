{
 "cells": [
  {
   "cell_type": "code",
   "execution_count": 1,
   "id": "93b8bb93-2972-4e8a-b923-533b43cb3445",
   "metadata": {},
   "outputs": [],
   "source": [
    "import polars as pl\n",
    "import requests\n",
    "from bs4 import BeautifulSoup\n",
    "import os\n",
    "import concurrent.futures\n",
    "import zipfile\n",
    "import unicodedata"
   ]
  },
  {
   "cell_type": "markdown",
   "id": "2758f730-68db-464e-8087-e1f8d0d8bff1",
   "metadata": {},
   "source": [
    "### Get href values for download func"
   ]
  },
  {
   "cell_type": "code",
   "execution_count": 2,
   "id": "5e198bd7-5392-4694-bdcc-a904aa06a261",
   "metadata": {},
   "outputs": [],
   "source": [
    "url = 'https://dados.rfb.gov.br/CNPJ/'"
   ]
  },
  {
   "cell_type": "code",
   "execution_count": 3,
   "id": "84c9e41d-bc29-48c7-b709-e0690f7efdf9",
   "metadata": {},
   "outputs": [],
   "source": [
    "content = requests.get(url)"
   ]
  },
  {
   "cell_type": "code",
   "execution_count": 4,
   "id": "ef72540d-85e5-43e2-b21a-4fe6a76fb424",
   "metadata": {},
   "outputs": [],
   "source": [
    "soup = BeautifulSoup(content.text,'html')"
   ]
  },
  {
   "cell_type": "code",
   "execution_count": 5,
   "id": "8824916e-73a9-479a-966c-a0902a025daa",
   "metadata": {},
   "outputs": [
    {
     "data": {
      "text/plain": [
       "[<a href=\"?C=N;O=D\">Name</a>,\n",
       " <a href=\"?C=M;O=A\">Last modified</a>,\n",
       " <a href=\"?C=S;O=A\">Size</a>,\n",
       " <a href=\"?C=D;O=A\">Description</a>,\n",
       " <a href=\"/\">Parent Directory</a>,\n",
       " <a href=\"Cnaes.zip\">Cnaes.zip</a>,\n",
       " <a href=\"Empresas0.zip\">Empresas0.zip</a>,\n",
       " <a href=\"Empresas1.zip\">Empresas1.zip</a>,\n",
       " <a href=\"Empresas2.zip\">Empresas2.zip</a>,\n",
       " <a href=\"Empresas3.zip\">Empresas3.zip</a>,\n",
       " <a href=\"Empresas4.zip\">Empresas4.zip</a>,\n",
       " <a href=\"Empresas5.zip\">Empresas5.zip</a>,\n",
       " <a href=\"Empresas6.zip\">Empresas6.zip</a>,\n",
       " <a href=\"Empresas7.zip\">Empresas7.zip</a>,\n",
       " <a href=\"Empresas8.zip\">Empresas8.zip</a>,\n",
       " <a href=\"Empresas9.zip\">Empresas9.zip</a>,\n",
       " <a href=\"Estabelecimentos0.zip\">Estabelecimentos0.zip</a>,\n",
       " <a href=\"Estabelecimentos1.zip\">Estabelecimentos1.zip</a>,\n",
       " <a href=\"Estabelecimentos2.zip\">Estabelecimentos2.zip</a>,\n",
       " <a href=\"Estabelecimentos3.zip\">Estabelecimentos3.zip</a>,\n",
       " <a href=\"Estabelecimentos4.zip\">Estabelecimentos4.zip</a>,\n",
       " <a href=\"Estabelecimentos5.zip\">Estabelecimentos5.zip</a>,\n",
       " <a href=\"Estabelecimentos6.zip\">Estabelecimentos6.zip</a>,\n",
       " <a href=\"Estabelecimentos7.zip\">Estabelecimentos7.zip</a>,\n",
       " <a href=\"Estabelecimentos8.zip\">Estabelecimentos8.zip</a>,\n",
       " <a href=\"Estabelecimentos9.zip\">Estabelecimentos9.zip</a>,\n",
       " <a href=\"LAYOUT_DADOS_ABERTOS_CNPJ.pdf\">LAYOUT_DADOS_ABERTOS..&gt;</a>,\n",
       " <a href=\"Motivos.zip\">Motivos.zip</a>,\n",
       " <a href=\"Municipios.zip\">Municipios.zip</a>,\n",
       " <a href=\"Naturezas.zip\">Naturezas.zip</a>,\n",
       " <a href=\"Paises.zip\">Paises.zip</a>,\n",
       " <a href=\"Qualificacoes.zip\">Qualificacoes.zip</a>,\n",
       " <a href=\"Simples.zip\">Simples.zip</a>,\n",
       " <a href=\"Socios0.zip\">Socios0.zip</a>,\n",
       " <a href=\"Socios1.zip\">Socios1.zip</a>,\n",
       " <a href=\"Socios2.zip\">Socios2.zip</a>,\n",
       " <a href=\"Socios3.zip\">Socios3.zip</a>,\n",
       " <a href=\"Socios4.zip\">Socios4.zip</a>,\n",
       " <a href=\"Socios5.zip\">Socios5.zip</a>,\n",
       " <a href=\"Socios6.zip\">Socios6.zip</a>,\n",
       " <a href=\"Socios7.zip\">Socios7.zip</a>,\n",
       " <a href=\"Socios8.zip\">Socios8.zip</a>,\n",
       " <a href=\"Socios9.zip\">Socios9.zip</a>,\n",
       " <a href=\"regime_tributario/\">regime_tributario/</a>]"
      ]
     },
     "execution_count": 5,
     "metadata": {},
     "output_type": "execute_result"
    }
   ],
   "source": [
    "soup.find_all('a')"
   ]
  },
  {
   "cell_type": "code",
   "execution_count": 49,
   "id": "4d1b6919-b1da-491d-b59d-b3e7720edb90",
   "metadata": {},
   "outputs": [],
   "source": [
    "estabelecimentos = []\n",
    "for ancor in soup.find_all('a'):\n",
    "    if 'estabelecimentos' in ancor.text.lower():\n",
    "        estabelecimentos.append(ancor['href'])\n",
    "    else:\n",
    "        pass"
   ]
  },
  {
   "cell_type": "code",
   "execution_count": 50,
   "id": "f40c8699-33df-4b11-8328-3b1802273016",
   "metadata": {},
   "outputs": [
    {
     "data": {
      "text/plain": [
       "['Estabelecimentos0.zip',\n",
       " 'Estabelecimentos1.zip',\n",
       " 'Estabelecimentos2.zip',\n",
       " 'Estabelecimentos3.zip',\n",
       " 'Estabelecimentos4.zip',\n",
       " 'Estabelecimentos5.zip',\n",
       " 'Estabelecimentos6.zip',\n",
       " 'Estabelecimentos7.zip',\n",
       " 'Estabelecimentos8.zip',\n",
       " 'Estabelecimentos9.zip']"
      ]
     },
     "execution_count": 50,
     "metadata": {},
     "output_type": "execute_result"
    }
   ],
   "source": [
    "estabelecimentos"
   ]
  },
  {
   "cell_type": "code",
   "execution_count": 22,
   "id": "5377a5d7-c97e-47c0-9104-2f90cd665f22",
   "metadata": {},
   "outputs": [],
   "source": [
    "urls = []\n",
    "for i in estabelecimentos:\n",
    "    url = f'https://dados.rfb.gov.br/CNPJ/{i}'\n",
    "    urls.append(url)"
   ]
  },
  {
   "cell_type": "code",
   "execution_count": 23,
   "id": "13379249-b819-4bc2-be5e-daffe104a28f",
   "metadata": {},
   "outputs": [
    {
     "data": {
      "text/plain": [
       "['https://dados.rfb.gov.br/CNPJ/Estabelecimentos0.zip',\n",
       " 'https://dados.rfb.gov.br/CNPJ/Estabelecimentos1.zip',\n",
       " 'https://dados.rfb.gov.br/CNPJ/Estabelecimentos2.zip',\n",
       " 'https://dados.rfb.gov.br/CNPJ/Estabelecimentos3.zip',\n",
       " 'https://dados.rfb.gov.br/CNPJ/Estabelecimentos4.zip',\n",
       " 'https://dados.rfb.gov.br/CNPJ/Estabelecimentos5.zip',\n",
       " 'https://dados.rfb.gov.br/CNPJ/Estabelecimentos6.zip',\n",
       " 'https://dados.rfb.gov.br/CNPJ/Estabelecimentos7.zip',\n",
       " 'https://dados.rfb.gov.br/CNPJ/Estabelecimentos8.zip',\n",
       " 'https://dados.rfb.gov.br/CNPJ/Estabelecimentos9.zip']"
      ]
     },
     "execution_count": 23,
     "metadata": {},
     "output_type": "execute_result"
    }
   ],
   "source": [
    "urls"
   ]
  },
  {
   "cell_type": "markdown",
   "id": "abc4dc0f-92d6-4658-8a65-9dd76ff5171f",
   "metadata": {},
   "source": [
    "### Get support files"
   ]
  },
  {
   "cell_type": "code",
   "execution_count": 2,
   "id": "aec5fafe-2d9c-4b77-b578-7be55dd3e09d",
   "metadata": {},
   "outputs": [],
   "source": [
    "support = ['motivos','municipios','paises']"
   ]
  },
  {
   "cell_type": "code",
   "execution_count": 3,
   "id": "e7ef4eea-ed6d-4d06-bdd2-bf27e88a4a37",
   "metadata": {},
   "outputs": [],
   "source": [
    "support_anchor = []"
   ]
  },
  {
   "cell_type": "code",
   "execution_count": 4,
   "id": "c8e8caee-831c-4783-87e4-ac0777846460",
   "metadata": {},
   "outputs": [
    {
     "ename": "NameError",
     "evalue": "name 'soup' is not defined",
     "output_type": "error",
     "traceback": [
      "\u001b[1;31m---------------------------------------------------------------------------\u001b[0m",
      "\u001b[1;31mNameError\u001b[0m                                 Traceback (most recent call last)",
      "Cell \u001b[1;32mIn[4], line 1\u001b[0m\n\u001b[1;32m----> 1\u001b[0m \u001b[38;5;28;01mfor\u001b[39;00m anchor \u001b[38;5;129;01min\u001b[39;00m \u001b[43msoup\u001b[49m\u001b[38;5;241m.\u001b[39mfind_all(\u001b[38;5;124m'\u001b[39m\u001b[38;5;124ma\u001b[39m\u001b[38;5;124m'\u001b[39m):\n\u001b[0;32m      2\u001b[0m     \u001b[38;5;28;01mfor\u001b[39;00m sup \u001b[38;5;129;01min\u001b[39;00m support:\n\u001b[0;32m      3\u001b[0m         \u001b[38;5;28;01mif\u001b[39;00m sup \u001b[38;5;129;01min\u001b[39;00m anchor\u001b[38;5;241m.\u001b[39mtext\u001b[38;5;241m.\u001b[39mlower():\n",
      "\u001b[1;31mNameError\u001b[0m: name 'soup' is not defined"
     ]
    }
   ],
   "source": [
    "for anchor in soup.find_all('a'):\n",
    "    for sup in support:\n",
    "        if sup in anchor.text.lower():\n",
    "            support_anchor.append(anchor['href'])\n",
    "        else:\n",
    "            pass"
   ]
  },
  {
   "cell_type": "code",
   "execution_count": 107,
   "id": "a6812e53-d134-41bd-a27b-2b6832fc41cd",
   "metadata": {},
   "outputs": [
    {
     "data": {
      "text/plain": [
       "['Motivos.zip', 'Municipios.zip', 'Paises.zip']"
      ]
     },
     "execution_count": 107,
     "metadata": {},
     "output_type": "execute_result"
    }
   ],
   "source": [
    "support_anchor"
   ]
  },
  {
   "cell_type": "code",
   "execution_count": 90,
   "id": "47aec488-c1d6-4a37-859c-156b90445862",
   "metadata": {},
   "outputs": [],
   "source": [
    "urls_support = []"
   ]
  },
  {
   "cell_type": "code",
   "execution_count": 91,
   "id": "bca26b5f-9f08-4815-bbdb-54248ae414f6",
   "metadata": {},
   "outputs": [],
   "source": [
    "for i in support_anchor:\n",
    "    url = f'https://dados.rfb.gov.br/CNPJ/{i}'\n",
    "    urls_support.append(url)"
   ]
  },
  {
   "cell_type": "code",
   "execution_count": 92,
   "id": "9742d4d3-d0fb-4150-b8ea-34df3e2c5e95",
   "metadata": {},
   "outputs": [
    {
     "data": {
      "text/plain": [
       "['https://dados.rfb.gov.br/CNPJ/Motivos.zip',\n",
       " 'https://dados.rfb.gov.br/CNPJ/Municipios.zip',\n",
       " 'https://dados.rfb.gov.br/CNPJ/Paises.zip']"
      ]
     },
     "execution_count": 92,
     "metadata": {},
     "output_type": "execute_result"
    }
   ],
   "source": [
    "urls_support"
   ]
  },
  {
   "cell_type": "code",
   "execution_count": 93,
   "id": "3e27a4ea-34b6-4535-a1b9-d623799893dd",
   "metadata": {},
   "outputs": [],
   "source": [
    "filenames_estabele = ['data/raw/'+estabe.lower() for estabe in estabelecimentos]"
   ]
  },
  {
   "cell_type": "code",
   "execution_count": 94,
   "id": "d6a04a46-6623-446e-9540-8e2212e1e4da",
   "metadata": {},
   "outputs": [
    {
     "data": {
      "text/plain": [
       "['data/raw/estabelecimentos0.zip',\n",
       " 'data/raw/estabelecimentos1.zip',\n",
       " 'data/raw/estabelecimentos2.zip',\n",
       " 'data/raw/estabelecimentos3.zip',\n",
       " 'data/raw/estabelecimentos4.zip',\n",
       " 'data/raw/estabelecimentos5.zip',\n",
       " 'data/raw/estabelecimentos6.zip',\n",
       " 'data/raw/estabelecimentos7.zip',\n",
       " 'data/raw/estabelecimentos8.zip',\n",
       " 'data/raw/estabelecimentos9.zip']"
      ]
     },
     "execution_count": 94,
     "metadata": {},
     "output_type": "execute_result"
    }
   ],
   "source": [
    "filenames_estabele"
   ]
  },
  {
   "cell_type": "code",
   "execution_count": 108,
   "id": "3754abae-9560-4cab-ba8a-ac0f6da68c66",
   "metadata": {},
   "outputs": [],
   "source": [
    "filenames_suport = ['data/raw/support/' + sup + '.zip' for sup in support]"
   ]
  },
  {
   "cell_type": "code",
   "execution_count": 109,
   "id": "ea595823-593f-4150-bea9-1a6324d32839",
   "metadata": {},
   "outputs": [
    {
     "data": {
      "text/plain": [
       "['data/raw/support/motivos.zip',\n",
       " 'data/raw/support/municipios.zip',\n",
       " 'data/raw/support/paises.zip']"
      ]
     },
     "execution_count": 109,
     "metadata": {},
     "output_type": "execute_result"
    }
   ],
   "source": [
    "filenames_suport"
   ]
  },
  {
   "cell_type": "markdown",
   "id": "8af97c45-c847-424f-bf22-92f73bf85a23",
   "metadata": {},
   "source": [
    "### Download function"
   ]
  },
  {
   "cell_type": "code",
   "execution_count": 67,
   "id": "16d99807-098e-42de-8d61-b4365c31e3fd",
   "metadata": {},
   "outputs": [],
   "source": [
    "def download_file(url, filename):\n",
    "    response = requests.get(url)\n",
    "    if response.status_code == 200:\n",
    "        with open(f'{filename}', 'wb') as file:\n",
    "            file.write(response.content)\n",
    "        print(f\"File downloaded successfully as '{filename}'\")\n",
    "    else:\n",
    "        print(f\"Failed to download file from '{url}'\")"
   ]
  },
  {
   "cell_type": "markdown",
   "id": "425527df-57bf-429e-b08d-6cd6ce6a723f",
   "metadata": {},
   "source": [
    "###### download estabelcimentos"
   ]
  },
  {
   "cell_type": "code",
   "execution_count": 34,
   "id": "9b0c9d69-c688-4e1b-b93b-9b0ff390e367",
   "metadata": {},
   "outputs": [],
   "source": [
    "num_threads = min(len(urls),10)"
   ]
  },
  {
   "cell_type": "code",
   "execution_count": 35,
   "id": "bfeb3aed-871e-4210-905d-ebf2104c0609",
   "metadata": {},
   "outputs": [
    {
     "name": "stdout",
     "output_type": "stream",
     "text": [
      "File downloaded successfully as 'estabelecimentos4.zip'\n",
      "File downloaded successfully as 'estabelecimentos1.zip'\n",
      "File downloaded successfully as 'estabelecimentos6.zip'\n",
      "File downloaded successfully as 'estabelecimentos8.zip'\n",
      "File downloaded successfully as 'estabelecimentos7.zip'\n",
      "File downloaded successfully as 'estabelecimentos2.zip'\n",
      "File downloaded successfully as 'estabelecimentos9.zip'\n",
      "File downloaded successfully as 'estabelecimentos5.zip'\n",
      "File downloaded successfully as 'estabelecimentos3.zip'\n",
      "File downloaded successfully as 'estabelecimentos0.zip'\n"
     ]
    }
   ],
   "source": [
    "# Download files using multiple threads\n",
    "with concurrent.futures.ThreadPoolExecutor(max_workers=num_threads) as executor:\n",
    "    executor.map(download_file, urls, filenames)"
   ]
  },
  {
   "cell_type": "markdown",
   "id": "675303fe-667a-4814-9e0b-180771775e6d",
   "metadata": {},
   "source": [
    "###### download support"
   ]
  },
  {
   "cell_type": "code",
   "execution_count": 95,
   "id": "445ee42f-5088-403b-bcb5-88e5ab2ccc63",
   "metadata": {},
   "outputs": [],
   "source": [
    "num_threads = min(len(urls_support),3)"
   ]
  },
  {
   "cell_type": "code",
   "execution_count": 110,
   "id": "09c52243-21fe-46e4-ae59-7cdf3a18394d",
   "metadata": {},
   "outputs": [
    {
     "data": {
      "text/plain": [
       "['data/raw/support/motivos.zip',\n",
       " 'data/raw/support/municipios.zip',\n",
       " 'data/raw/support/paises.zip']"
      ]
     },
     "execution_count": 110,
     "metadata": {},
     "output_type": "execute_result"
    }
   ],
   "source": [
    "filenames_suport"
   ]
  },
  {
   "cell_type": "code",
   "execution_count": 111,
   "id": "1c7eb1ca-01a8-4d3c-9645-9ff04aa51186",
   "metadata": {},
   "outputs": [
    {
     "data": {
      "text/plain": [
       "['https://dados.rfb.gov.br/CNPJ/Motivos.zip',\n",
       " 'https://dados.rfb.gov.br/CNPJ/Municipios.zip',\n",
       " 'https://dados.rfb.gov.br/CNPJ/Paises.zip']"
      ]
     },
     "execution_count": 111,
     "metadata": {},
     "output_type": "execute_result"
    }
   ],
   "source": [
    "urls_support"
   ]
  },
  {
   "cell_type": "code",
   "execution_count": 112,
   "id": "2bfc3cdf-d979-4b83-8a84-06799d846dac",
   "metadata": {},
   "outputs": [
    {
     "name": "stdout",
     "output_type": "stream",
     "text": [
      "File downloaded successfully as 'data/raw/support/motivos.zip'\n",
      "File downloaded successfully as 'data/raw/support/paises.zip'\n",
      "File downloaded successfully as 'data/raw/support/municipios.zip'\n"
     ]
    }
   ],
   "source": [
    "# Download files using multiple threads\n",
    "with concurrent.futures.ThreadPoolExecutor(max_workers=num_threads) as executor:\n",
    "    executor.map(download_file, urls_support, filenames_suport)"
   ]
  },
  {
   "cell_type": "markdown",
   "id": "290d626c-da78-49d3-ade4-3f2c97a5b0c1",
   "metadata": {},
   "source": [
    "### Extract files"
   ]
  },
  {
   "cell_type": "markdown",
   "id": "92bd2338-a7aa-446e-be44-d365c325a04e",
   "metadata": {},
   "source": [
    "##### Extract estabelecimentos"
   ]
  },
  {
   "cell_type": "code",
   "execution_count": 37,
   "id": "39081fcf-6e09-454e-bee5-4ee05b96b3e6",
   "metadata": {},
   "outputs": [],
   "source": [
    "files = os.listdir('data/raw')"
   ]
  },
  {
   "cell_type": "code",
   "execution_count": 42,
   "id": "8583340f-e857-417e-b3d6-2cbc936c9fcb",
   "metadata": {},
   "outputs": [
    {
     "data": {
      "text/plain": [
       "'estabelecimentos0.zip'"
      ]
     },
     "execution_count": 42,
     "metadata": {},
     "output_type": "execute_result"
    }
   ],
   "source": [
    "files[0]"
   ]
  },
  {
   "cell_type": "code",
   "execution_count": 46,
   "id": "beacf99d-9265-43b8-a9e8-9ab334cd2f1f",
   "metadata": {},
   "outputs": [
    {
     "data": {
      "text/plain": [
       "'estabelecimentos0'"
      ]
     },
     "execution_count": 46,
     "metadata": {},
     "output_type": "execute_result"
    }
   ],
   "source": [
    "files[0].split('.')[0]"
   ]
  },
  {
   "cell_type": "code",
   "execution_count": 47,
   "id": "f859cac6-a2d2-48e5-9887-73731c8070eb",
   "metadata": {},
   "outputs": [
    {
     "name": "stdout",
     "output_type": "stream",
     "text": [
      "Done\n",
      "Done\n",
      "Done\n",
      "Done\n",
      "Done\n",
      "Done\n",
      "Done\n",
      "Done\n",
      "Done\n",
      "Done\n"
     ]
    }
   ],
   "source": [
    "for file in files:\n",
    "    if file.endswith('.zip'):\n",
    "        file_name = file.split('.')[0]\n",
    "        file_path = os.path.join('data/raw',file)\n",
    "        with zipfile.ZipFile(file_path,'r') as zip_ref:\n",
    "            zip_ref.extractall(f'data/raw/extract/{file_name}')\n",
    "        print('Done')"
   ]
  },
  {
   "cell_type": "markdown",
   "id": "1f3e4247-bca3-499c-88bd-62905447f3f6",
   "metadata": {},
   "source": [
    "##### Extract support"
   ]
  },
  {
   "cell_type": "code",
   "execution_count": 113,
   "id": "9b88c8b4-a663-4c6f-9b23-71c7dadd1dbf",
   "metadata": {},
   "outputs": [],
   "source": [
    "files = os.listdir('data/raw/support/')"
   ]
  },
  {
   "cell_type": "code",
   "execution_count": 114,
   "id": "78ec21bd-c30f-4965-98a2-81987d667314",
   "metadata": {},
   "outputs": [
    {
     "data": {
      "text/plain": [
       "'motivos.zip'"
      ]
     },
     "execution_count": 114,
     "metadata": {},
     "output_type": "execute_result"
    }
   ],
   "source": [
    "files[0]"
   ]
  },
  {
   "cell_type": "code",
   "execution_count": 115,
   "id": "8368edb1-89f0-4789-bbe5-84ac11f7fff0",
   "metadata": {},
   "outputs": [
    {
     "data": {
      "text/plain": [
       "'motivos'"
      ]
     },
     "execution_count": 115,
     "metadata": {},
     "output_type": "execute_result"
    }
   ],
   "source": [
    "files[0].split('.')[0]"
   ]
  },
  {
   "cell_type": "code",
   "execution_count": 116,
   "id": "f8a8ce28-db23-4e59-ac4a-5d4fabfab0b6",
   "metadata": {},
   "outputs": [
    {
     "name": "stdout",
     "output_type": "stream",
     "text": [
      "Done\n",
      "Done\n",
      "Done\n"
     ]
    }
   ],
   "source": [
    "for file in files:\n",
    "    if file.endswith('.zip'):\n",
    "        file_name = file.split('.')[0]\n",
    "        file_path = os.path.join('data/raw/support',file)\n",
    "        with zipfile.ZipFile(file_path,'r') as zip_ref:\n",
    "            zip_ref.extractall(f'data/raw/support/{file_name}')\n",
    "        print('Done')"
   ]
  },
  {
   "cell_type": "markdown",
   "id": "72b1339f-52e8-4154-82fb-91f8861c71bd",
   "metadata": {},
   "source": [
    "### Data exploration"
   ]
  },
  {
   "cell_type": "code",
   "execution_count": 63,
   "id": "02382b57-6239-4815-83cb-58212fe72798",
   "metadata": {},
   "outputs": [
    {
     "data": {
      "text/plain": [
       "<polars.config.Config at 0x1f91a399ed0>"
      ]
     },
     "execution_count": 63,
     "metadata": {},
     "output_type": "execute_result"
    }
   ],
   "source": [
    "pl.Config(tbl_width_chars=1000)\n",
    "pl.Config.set_tbl_width_chars(None)\n",
    "pl.Config.set_fmt_str_lengths(1000)\n",
    "pl.Config(fmt_str_lengths=1000)"
   ]
  },
  {
   "cell_type": "code",
   "execution_count": 35,
   "id": "5ec002af-5aa2-4519-b743-4e97aad8d501",
   "metadata": {},
   "outputs": [],
   "source": [
    "new_columns = [\n",
    "    'cnpj_basic',\n",
    "    'cnpj_order',\n",
    "    'cnpj_dv',\n",
    "    'identificador_matriz',\n",
    "    'nome_fantasia',\n",
    "    'situacao_cadastral',\n",
    "    'data_situacao_cadastral',\n",
    "    'motivo_situacao_cadastral',\n",
    "    'nome_cidade_exterior',\n",
    "    'pais',\n",
    "    'data_inicio_atividade',\n",
    "    'cnae_principal',\n",
    "    'cnae_secundario',\n",
    "    'tipo_logradouro',\n",
    "    'logradouro',\n",
    "    'numero',\n",
    "    'complemento',\n",
    "    'bairro',\n",
    "    'cep',\n",
    "    'uf',\n",
    "    'municipio',\n",
    "    'ddd_1',\n",
    "    'telefone_1',\n",
    "    'ddd_2',\n",
    "    'telefone_2',\n",
    "    'ddd_fax',\n",
    "    'fax',\n",
    "    'email',\n",
    "    'situacao_especial',\n",
    "    'data_situacao_especial'\n",
    "]"
   ]
  },
  {
   "cell_type": "code",
   "execution_count": 67,
   "id": "182b12b2-09c6-4c4c-a999-d0ccf6c15d72",
   "metadata": {},
   "outputs": [],
   "source": [
    "dtypes = {\n",
    "    'cnpj_basic':pl.String,\n",
    "    'cnpj_order':pl.String,\n",
    "    'cnpj_dv':pl.String,\n",
    "    'data_situacao_cadastral':pl.String,\n",
    "    'identificador_matriz':pl.Int8,\n",
    "    'situacao_cadastral':pl.Int8,\n",
    "    'data_inicio_atividade':pl.String,\n",
    "    'motivo_situacao_cadastral': pl.Int16,\n",
    "    'telefone_1':pl.String,\n",
    "    'telefone_2':pl.String,\n",
    "    'fax':pl.String,\n",
    "    'ddd_1':pl.String,\n",
    "    'ddd_2':pl.String,\n",
    "    'ddd_fax':pl.String,\n",
    "    'pais': pl.Int32,\n",
    "    'cnae_principal': pl.String,\n",
    "    'cep': pl.String,\n",
    "    'uf': pl.Categorical,\n",
    "    'municipio': pl.Int32,\n",
    "    'situacao_especial': pl.Categorical\n",
    "}"
   ]
  },
  {
   "cell_type": "code",
   "execution_count": 10,
   "id": "a36e2f62-0e1b-4ba3-9cf0-f48ed70f0686",
   "metadata": {},
   "outputs": [],
   "source": [
    "#Get folders in extract directory\n",
    "extract_dir = os.listdir('data/raw/extract/')"
   ]
  },
  {
   "cell_type": "code",
   "execution_count": 30,
   "id": "86b11121-3d52-43fb-8a6f-e3e312d010bf",
   "metadata": {},
   "outputs": [],
   "source": [
    "# Get file names\n",
    "empresa_part = []\n",
    "for i in range(0,len(extract_dir)):\n",
    "    file_part = os.listdir(f'data/raw/extract/{extract_dir[i]}/')[0]\n",
    "    empresa_part.append(file_part)"
   ]
  },
  {
   "cell_type": "code",
   "execution_count": 41,
   "id": "04b3e3e7-6921-490a-b8c7-57b8a92f1ce7",
   "metadata": {},
   "outputs": [],
   "source": [
    "df_emp = pl.read_csv(f'data/raw/extract/{extract_dir[1]}/{empresa_part[1]}', encoding = 'latin1', separator = ';', has_header=False , new_columns = new_columns, dtypes=dtypes)"
   ]
  },
  {
   "cell_type": "code",
   "execution_count": null,
   "id": "39e9e2f7-f7c9-4d45-8cff-99d05335e75d",
   "metadata": {},
   "outputs": [],
   "source": [
    "#5562-687"
   ]
  },
  {
   "cell_type": "code",
   "execution_count": 51,
   "id": "3235a2b2-4b1b-4b89-b71d-b8e038409f9b",
   "metadata": {},
   "outputs": [
    {
     "data": {
      "text/html": [
       "<div><style>\n",
       ".dataframe > thead > tr,\n",
       ".dataframe > tbody > tr {\n",
       "  text-align: right;\n",
       "  white-space: pre-wrap;\n",
       "}\n",
       "</style>\n",
       "<small>shape: (2, 30)</small><table border=\"1\" class=\"dataframe\"><thead><tr><th>cnpj_basic</th><th>cnpj_order</th><th>cnpj_dv</th><th>identificador_matriz</th><th>nome_fantasia</th><th>situacao_cadastral</th><th>data_situacao_cadastral</th><th>motivo_situacao_cadastral</th><th>nome_cidade_exterior</th><th>pais</th><th>data_inicio_atividade</th><th>cnae_principal</th><th>cnae_secundario</th><th>tipo_logradouro</th><th>logradouro</th><th>numero</th><th>complemento</th><th>bairro</th><th>cep</th><th>uf</th><th>municipio</th><th>ddd_1</th><th>telefone_1</th><th>ddd_2</th><th>telefone_2</th><th>ddd_fax</th><th>fax</th><th>email</th><th>situacao_especial</th><th>data_situacao_especial</th></tr><tr><td>str</td><td>str</td><td>str</td><td>i8</td><td>str</td><td>i8</td><td>str</td><td>i16</td><td>str</td><td>i32</td><td>str</td><td>str</td><td>str</td><td>str</td><td>str</td><td>str</td><td>str</td><td>str</td><td>str</td><td>cat</td><td>i32</td><td>str</td><td>str</td><td>str</td><td>str</td><td>str</td><td>str</td><td>str</td><td>cat</td><td>str</td></tr></thead><tbody><tr><td>&quot;07396865&quot;</td><td>&quot;0001&quot;</td><td>&quot;68&quot;</td><td>1</td><td>&quot;&quot;</td><td>8</td><td>&quot;20170210&quot;</td><td>1</td><td>&quot;&quot;</td><td>null</td><td>&quot;20050518&quot;</td><td>&quot;1412602&quot;</td><td>&quot;1411801&quot;</td><td>&quot;RUA&quot;</td><td>&quot;TUCANEIRA&quot;</td><td>&quot;30&quot;</td><td>&quot;&quot;</td><td>&quot;DOS LAGOS&quot;</td><td>&quot;89136000&quot;</td><td>&quot;SC&quot;</td><td>8297</td><td>&quot;47&quot;</td><td>&quot;33851125&quot;</td><td>&quot;47&quot;</td><td>&quot;33851125&quot;</td><td>&quot;47&quot;</td><td>&quot;33851125&quot;</td><td>&quot;&quot;</td><td>&quot;&quot;</td><td>&quot;&quot;</td></tr><tr><td>&quot;64904295&quot;</td><td>&quot;0018&quot;</td><td>&quot;51&quot;</td><td>2</td><td>&quot;&quot;</td><td>8</td><td>&quot;20161110&quot;</td><td>1</td><td>&quot;&quot;</td><td>null</td><td>&quot;20050429&quot;</td><td>&quot;4639701&quot;</td><td>&quot;4637199&quot;</td><td>&quot;AVENIDA&quot;</td><td>&quot;MENINO MARCELO…</td><td>&quot;8551B&quot;</td><td>&quot;LOTE  2       …</td><td>&quot;SERRARIA&quot;</td><td>&quot;57046000&quot;</td><td>&quot;AL&quot;</td><td>2785</td><td>&quot;11&quot;</td><td>&quot;36491000&quot;</td><td>&quot;31&quot;</td><td>&quot;33880436&quot;</td><td>&quot;82&quot;</td><td>&quot;33118379&quot;</td><td>&quot;CLAUDIO.GIGLIO…</td><td>&quot;&quot;</td><td>&quot;&quot;</td></tr></tbody></table></div>"
      ],
      "text/plain": [
       "shape: (2, 30)\n",
       "┌────────────┬────────────┬─────────┬──────────────────────┬───┬──────────┬─────────────────────────────┬───────────────────┬────────────────────────┐\n",
       "│ cnpj_basic ┆ cnpj_order ┆ cnpj_dv ┆ identificador_matriz ┆ … ┆ fax      ┆ email                       ┆ situacao_especial ┆ data_situacao_especial │\n",
       "│ ---        ┆ ---        ┆ ---     ┆ ---                  ┆   ┆ ---      ┆ ---                         ┆ ---               ┆ ---                    │\n",
       "│ str        ┆ str        ┆ str     ┆ i8                   ┆   ┆ str      ┆ str                         ┆ cat               ┆ str                    │\n",
       "╞════════════╪════════════╪═════════╪══════════════════════╪═══╪══════════╪═════════════════════════════╪═══════════════════╪════════════════════════╡\n",
       "│ 07396865   ┆ 0001       ┆ 68      ┆ 1                    ┆ … ┆ 33851125 ┆                             ┆                   ┆                        │\n",
       "│ 64904295   ┆ 0018       ┆ 51      ┆ 2                    ┆ … ┆ 33118379 ┆ CLAUDIO.GIGLIO@CAMIL.COM.BR ┆                   ┆                        │\n",
       "└────────────┴────────────┴─────────┴──────────────────────┴───┴──────────┴─────────────────────────────┴───────────────────┴────────────────────────┘"
      ]
     },
     "execution_count": 51,
     "metadata": {},
     "output_type": "execute_result"
    }
   ],
   "source": [
    "df_emp.head(2)"
   ]
  },
  {
   "cell_type": "code",
   "execution_count": 58,
   "id": "77224f86-1c59-4ceb-9acd-c5624768e91f",
   "metadata": {},
   "outputs": [
    {
     "data": {
      "text/plain": [
       "(4753435, 30)"
      ]
     },
     "execution_count": 58,
     "metadata": {},
     "output_type": "execute_result"
    }
   ],
   "source": [
    "df_emp.shape"
   ]
  },
  {
   "cell_type": "code",
   "execution_count": 64,
   "id": "0f5098c5-039a-47d6-a204-8364e1f6a64a",
   "metadata": {},
   "outputs": [
    {
     "data": {
      "text/html": [
       "<div><style>\n",
       ".dataframe > thead > tr,\n",
       ".dataframe > tbody > tr {\n",
       "  text-align: right;\n",
       "  white-space: pre-wrap;\n",
       "}\n",
       "</style>\n",
       "<small>shape: (5, 32)</small><table border=\"1\" class=\"dataframe\"><thead><tr><th>cnpj_basic</th><th>cnpj_order</th><th>cnpj_dv</th><th>identificador_matriz</th><th>nome_fantasia</th><th>situacao_cadastral</th><th>data_situacao_cadastral</th><th>motivo_situacao_cadastral</th><th>nome_cidade_exterior</th><th>pais</th><th>data_inicio_atividade</th><th>cnae_principal</th><th>cnae_secundario</th><th>tipo_logradouro</th><th>logradouro</th><th>numero</th><th>complemento</th><th>bairro</th><th>cep</th><th>uf</th><th>municipio</th><th>ddd_1</th><th>telefone_1</th><th>ddd_2</th><th>telefone_2</th><th>ddd_fax</th><th>fax</th><th>email</th><th>situacao_especial</th><th>data_situacao_especial</th><th>cnpj_completo</th><th>logradouro_completo</th></tr><tr><td>str</td><td>str</td><td>str</td><td>i8</td><td>str</td><td>i8</td><td>date</td><td>i16</td><td>str</td><td>i32</td><td>date</td><td>str</td><td>list[str]</td><td>str</td><td>str</td><td>str</td><td>str</td><td>str</td><td>str</td><td>cat</td><td>i32</td><td>str</td><td>str</td><td>str</td><td>str</td><td>str</td><td>str</td><td>str</td><td>cat</td><td>date</td><td>str</td><td>str</td></tr></thead><tbody><tr><td>&quot;03419572&quot;</td><td>&quot;0001&quot;</td><td>&quot;06&quot;</td><td>1</td><td>&quot;BOMBONIERE JOYNA&quot;</td><td>4</td><td>2018-10-25</td><td>63</td><td>&quot;&quot;</td><td>null</td><td>1999-09-27</td><td>&quot;4721104&quot;</td><td>[&quot;&quot;]</td><td>&quot;RUA&quot;</td><td>&quot;ESCRITOR EDSON CARNEIRO&quot;</td><td>&quot;22-E&quot;</td><td>&quot;LOJA&quot;</td><td>&quot;PERNAMBUES&quot;</td><td>&quot;41130010&quot;</td><td>&quot;BA&quot;</td><td>3849</td><td>&quot;0712&quot;</td><td>&quot;303405&quot;</td><td>&quot;&quot;</td><td>&quot;&quot;</td><td>&quot;&quot;</td><td>&quot;&quot;</td><td>&quot;&quot;</td><td>&quot;&quot;</td><td>null</td><td>&quot;03419572000106&quot;</td><td>&quot;RUA ESCRITOR EDSON CARNEIRO&quot;</td></tr><tr><td>&quot;02355016&quot;</td><td>&quot;0001&quot;</td><td>&quot;42&quot;</td><td>1</td><td>&quot;O CARDEAL&quot;</td><td>8</td><td>2008-12-31</td><td>71</td><td>&quot;&quot;</td><td>null</td><td>1998-02-03</td><td>&quot;4774100&quot;</td><td>[&quot;&quot;]</td><td>&quot;RUA&quot;</td><td>&quot;RAUL LEITE&quot;</td><td>&quot;87&quot;</td><td>&quot;LOJA&quot;</td><td>&quot;VILA LAURA&quot;</td><td>&quot;40270180&quot;</td><td>&quot;BA&quot;</td><td>3849</td><td>&quot;0712&quot;</td><td>&quot;447700&quot;</td><td>&quot;&quot;</td><td>&quot;&quot;</td><td>&quot;&quot;</td><td>&quot;&quot;</td><td>&quot;&quot;</td><td>&quot;&quot;</td><td>null</td><td>&quot;02355016000142&quot;</td><td>&quot;RUA RAUL LEITE&quot;</td></tr><tr><td>&quot;02685293&quot;</td><td>&quot;0001&quot;</td><td>&quot;13&quot;</td><td>1</td><td>&quot;SHALOM ARMARINHO LTDA&quot;</td><td>8</td><td>2011-03-21</td><td>1</td><td>&quot;&quot;</td><td>null</td><td>1998-07-21</td><td>&quot;4755502&quot;</td><td>[&quot;&quot;]</td><td>&quot;&quot;</td><td>&quot;CENTRO COMERCIAL EDUARDO ALENCAR&quot;</td><td>&quot;36&quot;</td><td>&quot;BOX 36&quot;</td><td>&quot;CIA 1&quot;</td><td>&quot;43700000&quot;</td><td>&quot;BA&quot;</td><td>3913</td><td>&quot;0712&quot;</td><td>&quot;2431870&quot;</td><td>&quot;&quot;</td><td>&quot;&quot;</td><td>&quot;&quot;</td><td>&quot;&quot;</td><td>&quot;&quot;</td><td>&quot;&quot;</td><td>null</td><td>&quot;02685293000113&quot;</td><td>&quot; CENTRO COMERCIAL EDUARDO ALENCAR&quot;</td></tr><tr><td>&quot;13468152&quot;</td><td>&quot;0001&quot;</td><td>&quot;65&quot;</td><td>1</td><td>&quot;LACCY&quot;</td><td>4</td><td>2018-11-07</td><td>63</td><td>&quot;&quot;</td><td>null</td><td>1984-07-19</td><td>&quot;4781400&quot;</td><td>[&quot;&quot;]</td><td>&quot;RUA&quot;</td><td>&quot;LEOVIGILDO FILGUEIRAS&quot;</td><td>&quot;530&quot;</td><td>&quot;&quot;</td><td>&quot;GARCIA&quot;</td><td>&quot;40100000&quot;</td><td>&quot;BA&quot;</td><td>3849</td><td>&quot;0712&quot;</td><td>&quot;645810&quot;</td><td>&quot;&quot;</td><td>&quot;&quot;</td><td>&quot;&quot;</td><td>&quot;&quot;</td><td>&quot;&quot;</td><td>&quot;&quot;</td><td>null</td><td>&quot;13468152000165&quot;</td><td>&quot;RUA LEOVIGILDO FILGUEIRAS&quot;</td></tr><tr><td>&quot;58768284&quot;</td><td>&quot;0012&quot;</td><td>&quot;01&quot;</td><td>2</td><td>&quot;&quot;</td><td>8</td><td>2003-07-15</td><td>1</td><td>&quot;&quot;</td><td>null</td><td>1998-02-09</td><td>&quot;6511101&quot;</td><td>[&quot;&quot;]</td><td>&quot;AVENIDA&quot;</td><td>&quot;ANTONIO CARLOS MAGALHAES&quot;</td><td>&quot;2719&quot;</td><td>&quot;PARTE&quot;</td><td>&quot;BROTAS&quot;</td><td>&quot;40301155&quot;</td><td>&quot;BA&quot;</td><td>3849</td><td>&quot;0712&quot;</td><td>&quot;2265742&quot;</td><td>&quot;&quot;</td><td>&quot;&quot;</td><td>&quot;0713&quot;</td><td>&quot;3502900&quot;</td><td>&quot;&quot;</td><td>&quot;&quot;</td><td>null</td><td>&quot;58768284001201&quot;</td><td>&quot;AVENIDA ANTONIO CARLOS MAGALHAES&quot;</td></tr></tbody></table></div>"
      ],
      "text/plain": [
       "shape: (5, 32)\n",
       "┌────────────┬────────────┬─────────┬──────────────────────┬───┬───────────────────┬────────────────────────┬────────────────┬──────────────────────────────────┐\n",
       "│ cnpj_basic ┆ cnpj_order ┆ cnpj_dv ┆ identificador_matriz ┆ … ┆ situacao_especial ┆ data_situacao_especial ┆ cnpj_completo  ┆ logradouro_completo              │\n",
       "│ ---        ┆ ---        ┆ ---     ┆ ---                  ┆   ┆ ---               ┆ ---                    ┆ ---            ┆ ---                              │\n",
       "│ str        ┆ str        ┆ str     ┆ i8                   ┆   ┆ cat               ┆ date                   ┆ str            ┆ str                              │\n",
       "╞════════════╪════════════╪═════════╪══════════════════════╪═══╪═══════════════════╪════════════════════════╪════════════════╪══════════════════════════════════╡\n",
       "│ 03419572   ┆ 0001       ┆ 06      ┆ 1                    ┆ … ┆                   ┆ null                   ┆ 03419572000106 ┆ RUA ESCRITOR EDSON CARNEIRO      │\n",
       "│ 02355016   ┆ 0001       ┆ 42      ┆ 1                    ┆ … ┆                   ┆ null                   ┆ 02355016000142 ┆ RUA RAUL LEITE                   │\n",
       "│ 02685293   ┆ 0001       ┆ 13      ┆ 1                    ┆ … ┆                   ┆ null                   ┆ 02685293000113 ┆ CENTRO COMERCIAL EDUARDO ALENCAR │\n",
       "│ 13468152   ┆ 0001       ┆ 65      ┆ 1                    ┆ … ┆                   ┆ null                   ┆ 13468152000165 ┆ RUA LEOVIGILDO FILGUEIRAS        │\n",
       "│ 58768284   ┆ 0012       ┆ 01      ┆ 2                    ┆ … ┆                   ┆ null                   ┆ 58768284001201 ┆ AVENIDA ANTONIO CARLOS MAGALHAES │\n",
       "└────────────┴────────────┴─────────┴──────────────────────┴───┴───────────────────┴────────────────────────┴────────────────┴──────────────────────────────────┘"
      ]
     },
     "execution_count": 64,
     "metadata": {},
     "output_type": "execute_result"
    }
   ],
   "source": [
    "df_emp.filter(pl.col('ddd_1')=='0712')"
   ]
  },
  {
   "cell_type": "code",
   "execution_count": 16,
   "id": "93f6e070-c39f-49f6-9728-612dc3746fc1",
   "metadata": {},
   "outputs": [
    {
     "data": {
      "text/plain": [
       "2453.304832458496"
      ]
     },
     "execution_count": 16,
     "metadata": {},
     "output_type": "execute_result"
    }
   ],
   "source": [
    "df_emp.estimated_size(\"mb\")"
   ]
  },
  {
   "cell_type": "code",
   "execution_count": 9,
   "id": "2ee5d223-f619-43ba-9c2b-bde1acfd1951",
   "metadata": {},
   "outputs": [],
   "source": [
    "# Change it to pl.Categorical"
   ]
  },
  {
   "cell_type": "code",
   "execution_count": 17,
   "id": "26e700a2-1a53-4cf9-b464-c0baa5460a3f",
   "metadata": {},
   "outputs": [
    {
     "data": {
      "text/html": [
       "<div><style>\n",
       ".dataframe > thead > tr,\n",
       ".dataframe > tbody > tr {\n",
       "  text-align: right;\n",
       "  white-space: pre-wrap;\n",
       "}\n",
       "</style>\n",
       "<small>shape: (4,)</small><table border=\"1\" class=\"dataframe\"><thead><tr><th>situacao_especial</th></tr><tr><td>cat</td></tr></thead><tbody><tr><td>&quot;ESPOLIO EV 407&quot;</td></tr><tr><td>&quot;FALIDO&quot;</td></tr><tr><td>&quot;EM LIQUIDACAO&quot;</td></tr><tr><td>&quot;RECUPERACAO JUDICIAL&quot;</td></tr></tbody></table></div>"
      ],
      "text/plain": [
       "shape: (4,)\n",
       "Series: 'situacao_especial' [cat]\n",
       "[\n",
       "\t\"ESPOLIO EV 407\"\n",
       "\t\"FALIDO\"\n",
       "\t\"EM LIQUIDACAO\"\n",
       "\t\"RECUPERACAO JUDICIAL\"\n",
       "]"
      ]
     },
     "execution_count": 17,
     "metadata": {},
     "output_type": "execute_result"
    }
   ],
   "source": [
    "df_emp.filter(pl.col('situacao_especial') != \"\")['situacao_especial'].unique()"
   ]
  },
  {
   "cell_type": "markdown",
   "id": "b6f97db9-e596-468b-bb3d-46ad1b82d063",
   "metadata": {},
   "source": [
    "### Change date types"
   ]
  },
  {
   "cell_type": "code",
   "execution_count": 11,
   "id": "5cd4f5ec-953b-48bd-b33e-6a1b3a8097e2",
   "metadata": {},
   "outputs": [],
   "source": [
    "# data_situacao_cadastral / data_inicio_atividade / data_situacao_especial"
   ]
  },
  {
   "cell_type": "code",
   "execution_count": 60,
   "id": "a196b01f-32b0-472c-a9d4-0f695a7f65cc",
   "metadata": {},
   "outputs": [],
   "source": [
    "df_emp = df_emp.with_columns(\n",
    "    pl.col('data_situacao_cadastral').str.strptime(pl.Date,'%Y %m %d',strict=False).cast(pl.Date),\n",
    "    pl.col('data_inicio_atividade').str.strptime(pl.Date,'%Y %m %d',strict=False).cast(pl.Date),\n",
    "    pl.col('data_situacao_especial').str.strptime(pl.Date,'%Y %m %d',strict=False).cast(pl.Date)\n",
    ")"
   ]
  },
  {
   "cell_type": "code",
   "execution_count": 19,
   "id": "46e09418-1db0-4c59-8247-ea51a95295f1",
   "metadata": {},
   "outputs": [
    {
     "data": {
      "text/html": [
       "<div><style>\n",
       ".dataframe > thead > tr,\n",
       ".dataframe > tbody > tr {\n",
       "  text-align: right;\n",
       "  white-space: pre-wrap;\n",
       "}\n",
       "</style>\n",
       "<small>shape: (5, 30)</small><table border=\"1\" class=\"dataframe\"><thead><tr><th>cnpj_basic</th><th>cnpj_order</th><th>cnpj_dv</th><th>identificador_matriz</th><th>nome_fantasia</th><th>situacao_cadastral</th><th>data_situacao_cadastral</th><th>motivo_situacao_cadastral</th><th>nome_cidade_exterior</th><th>pais</th><th>data_inicio_atividade</th><th>cnae_principal</th><th>cnae_secundario</th><th>tipo_logradouro</th><th>logradouro</th><th>numero</th><th>complemento</th><th>bairro</th><th>cep</th><th>uf</th><th>municipio</th><th>ddd_1</th><th>telefone_1</th><th>ddd_2</th><th>telefone_2</th><th>ddd_fax</th><th>fax</th><th>email</th><th>situacao_especial</th><th>data_situacao_especial</th></tr><tr><td>str</td><td>str</td><td>str</td><td>i8</td><td>str</td><td>i8</td><td>date</td><td>i16</td><td>str</td><td>i32</td><td>date</td><td>str</td><td>str</td><td>str</td><td>str</td><td>str</td><td>str</td><td>str</td><td>str</td><td>cat</td><td>i32</td><td>str</td><td>str</td><td>str</td><td>str</td><td>str</td><td>str</td><td>str</td><td>cat</td><td>date</td></tr></thead><tbody><tr><td>&quot;63950158&quot;</td><td>&quot;0001&quot;</td><td>&quot;42&quot;</td><td>1</td><td>&quot;CINTHYA&quot;</td><td>8</td><td>2021-07-28</td><td>1</td><td>&quot;&quot;</td><td>null</td><td>1990-07-20</td><td>&quot;1094500&quot;</td><td>&quot;&quot;</td><td>&quot;RUA&quot;</td><td>&quot;MANUEL GARCIA&quot;</td><td>&quot;354&quot;</td><td>&quot;&quot;</td><td>&quot;VILA BARUEL&quot;</td><td>&quot;02523040&quot;</td><td>&quot;SP&quot;</td><td>7107</td><td>&quot;&quot;</td><td>&quot;&quot;</td><td>&quot;&quot;</td><td>&quot;&quot;</td><td>&quot;&quot;</td><td>&quot;&quot;</td><td>&quot;&quot;</td><td>&quot;&quot;</td><td>null</td></tr><tr><td>&quot;26711226&quot;</td><td>&quot;0001&quot;</td><td>&quot;94&quot;</td><td>1</td><td>&quot;AGROPASTORIL REUNIDAS BAHIA&quot;</td><td>8</td><td>1994-08-31</td><td>9</td><td>&quot;&quot;</td><td>null</td><td>1990-08-21</td><td>&quot;4774100&quot;</td><td>&quot;&quot;</td><td>&quot;RODOVIA&quot;</td><td>&quot;MUNIC ILHA DO BANANAL&quot;</td><td>&quot;SN&quot;</td><td>&quot;ESQUERDA&quot;</td><td>&quot;ZONA RURAL&quot;</td><td>&quot;76590000&quot;</td><td>&quot;GO&quot;</td><td>9601</td><td>&quot;&quot;</td><td>&quot;&quot;</td><td>&quot;&quot;</td><td>&quot;&quot;</td><td>&quot;&quot;</td><td>&quot;&quot;</td><td>&quot;&quot;</td><td>&quot;&quot;</td><td>null</td></tr><tr><td>&quot;63950216&quot;</td><td>&quot;0001&quot;</td><td>&quot;38&quot;</td><td>1</td><td>&quot;&quot;</td><td>8</td><td>2008-12-31</td><td>71</td><td>&quot;&quot;</td><td>null</td><td>1990-07-19</td><td>&quot;8888888&quot;</td><td>&quot;&quot;</td><td>&quot;RUA&quot;</td><td>&quot;GAL JERONIMO FURTADO&quot;</td><td>&quot;277&quot;</td><td>&quot;&quot;</td><td>&quot;JARDIM CABUCU&quot;</td><td>&quot;02237000&quot;</td><td>&quot;SP&quot;</td><td>7107</td><td>&quot;&quot;</td><td>&quot;&quot;</td><td>&quot;&quot;</td><td>&quot;&quot;</td><td>&quot;&quot;</td><td>&quot;&quot;</td><td>&quot;&quot;</td><td>&quot;&quot;</td><td>null</td></tr><tr><td>&quot;63950224&quot;</td><td>&quot;0001&quot;</td><td>&quot;84&quot;</td><td>1</td><td>&quot;&quot;</td><td>8</td><td>2008-04-14</td><td>1</td><td>&quot;&quot;</td><td>null</td><td>1990-07-20</td><td>&quot;5611203&quot;</td><td>&quot;&quot;</td><td>&quot;RUA&quot;</td><td>&quot;MANOEL CAETANO DE GODOY&quot;</td><td>&quot;500&quot;</td><td>&quot;&quot;</td><td>&quot;JARDIM UBIRAMA&quot;</td><td>&quot;18683540&quot;</td><td>&quot;SP&quot;</td><td>6637</td><td>&quot;&quot;</td><td>&quot;&quot;</td><td>&quot;&quot;</td><td>&quot;&quot;</td><td>&quot;&quot;</td><td>&quot;&quot;</td><td>&quot;&quot;</td><td>&quot;&quot;</td><td>null</td></tr><tr><td>&quot;63950364&quot;</td><td>&quot;0001&quot;</td><td>&quot;52&quot;</td><td>1</td><td>&quot;&quot;</td><td>8</td><td>1992-05-27</td><td>1</td><td>&quot;&quot;</td><td>null</td><td>1990-07-20</td><td>&quot;8888888&quot;</td><td>&quot;&quot;</td><td>&quot;AVENIDA&quot;</td><td>&quot;CEL JOSE PIRES ANDRADE&quot;</td><td>&quot;101&quot;</td><td>&quot;&quot;</td><td>&quot;VILA VERA&quot;</td><td>&quot;08210040&quot;</td><td>&quot;SP&quot;</td><td>7107</td><td>&quot;&quot;</td><td>&quot;&quot;</td><td>&quot;&quot;</td><td>&quot;&quot;</td><td>&quot;&quot;</td><td>&quot;&quot;</td><td>&quot;&quot;</td><td>&quot;&quot;</td><td>null</td></tr></tbody></table></div>"
      ],
      "text/plain": [
       "shape: (5, 30)\n",
       "┌────────────┬────────────┬─────────┬──────────────────────┬───┬─────┬───────┬───────────────────┬────────────────────────┐\n",
       "│ cnpj_basic ┆ cnpj_order ┆ cnpj_dv ┆ identificador_matriz ┆ … ┆ fax ┆ email ┆ situacao_especial ┆ data_situacao_especial │\n",
       "│ ---        ┆ ---        ┆ ---     ┆ ---                  ┆   ┆ --- ┆ ---   ┆ ---               ┆ ---                    │\n",
       "│ str        ┆ str        ┆ str     ┆ i8                   ┆   ┆ str ┆ str   ┆ cat               ┆ date                   │\n",
       "╞════════════╪════════════╪═════════╪══════════════════════╪═══╪═════╪═══════╪═══════════════════╪════════════════════════╡\n",
       "│ 63950158   ┆ 0001       ┆ 42      ┆ 1                    ┆ … ┆     ┆       ┆                   ┆ null                   │\n",
       "│ 26711226   ┆ 0001       ┆ 94      ┆ 1                    ┆ … ┆     ┆       ┆                   ┆ null                   │\n",
       "│ 63950216   ┆ 0001       ┆ 38      ┆ 1                    ┆ … ┆     ┆       ┆                   ┆ null                   │\n",
       "│ 63950224   ┆ 0001       ┆ 84      ┆ 1                    ┆ … ┆     ┆       ┆                   ┆ null                   │\n",
       "│ 63950364   ┆ 0001       ┆ 52      ┆ 1                    ┆ … ┆     ┆       ┆                   ┆ null                   │\n",
       "└────────────┴────────────┴─────────┴──────────────────────┴───┴─────┴───────┴───────────────────┴────────────────────────┘"
      ]
     },
     "execution_count": 19,
     "metadata": {},
     "output_type": "execute_result"
    }
   ],
   "source": [
    "df_emp.head(5)"
   ]
  },
  {
   "cell_type": "markdown",
   "id": "ac0c8291-488f-4bdf-a53c-3146ed4d1a3e",
   "metadata": {},
   "source": [
    "### Concating cnpj to a single column and logradouro / change cnae secundario type"
   ]
  },
  {
   "cell_type": "code",
   "execution_count": 61,
   "id": "5801873c-ca56-4a5e-8e2e-53267194beed",
   "metadata": {},
   "outputs": [],
   "source": [
    "df_emp = df_emp.with_columns(\n",
    "    pl.concat_str(\n",
    "        [\n",
    "            pl.col(\"cnpj_basic\"),\n",
    "            pl.col(\"cnpj_order\"),\n",
    "            pl.col(\"cnpj_dv\"),\n",
    "        ]\n",
    "    ).alias(\"cnpj_completo\"),\n",
    "    pl.concat_str(\n",
    "        [\n",
    "            pl.col(\"tipo_logradouro\"),\n",
    "            pl.col(\"logradouro\")\n",
    "        ],\n",
    "        separator = \" \",\n",
    "    ).alias(\"logradouro_completo\"),\n",
    "    pl.col('cnae_secundario').cast(pl.List(pl.Utf8))\n",
    ")"
   ]
  },
  {
   "cell_type": "code",
   "execution_count": 21,
   "id": "b75190b8-afae-44e0-b0c9-4e7456c54863",
   "metadata": {},
   "outputs": [],
   "source": [
    "df_emp = df_emp.drop(['cnpj_basic','cnpj_order','cnpj_dv','tipo_logradouro','logradouro'])"
   ]
  },
  {
   "cell_type": "code",
   "execution_count": 22,
   "id": "6ecadfdc-7d5e-4a6f-bd71-f785f4a221f6",
   "metadata": {},
   "outputs": [
    {
     "data": {
      "text/html": [
       "<div><style>\n",
       ".dataframe > thead > tr,\n",
       ".dataframe > tbody > tr {\n",
       "  text-align: right;\n",
       "  white-space: pre-wrap;\n",
       "}\n",
       "</style>\n",
       "<small>shape: (2, 27)</small><table border=\"1\" class=\"dataframe\"><thead><tr><th>identificador_matriz</th><th>nome_fantasia</th><th>situacao_cadastral</th><th>data_situacao_cadastral</th><th>motivo_situacao_cadastral</th><th>nome_cidade_exterior</th><th>pais</th><th>data_inicio_atividade</th><th>cnae_principal</th><th>cnae_secundario</th><th>numero</th><th>complemento</th><th>bairro</th><th>cep</th><th>uf</th><th>municipio</th><th>ddd_1</th><th>telefone_1</th><th>ddd_2</th><th>telefone_2</th><th>ddd_fax</th><th>fax</th><th>email</th><th>situacao_especial</th><th>data_situacao_especial</th><th>cnpj_completo</th><th>logradouro_completo</th></tr><tr><td>i8</td><td>str</td><td>i8</td><td>date</td><td>i16</td><td>str</td><td>i32</td><td>date</td><td>str</td><td>list[str]</td><td>str</td><td>str</td><td>str</td><td>str</td><td>cat</td><td>i32</td><td>str</td><td>str</td><td>str</td><td>str</td><td>str</td><td>str</td><td>str</td><td>cat</td><td>date</td><td>str</td><td>str</td></tr></thead><tbody><tr><td>1</td><td>&quot;CINTHYA&quot;</td><td>8</td><td>2021-07-28</td><td>1</td><td>&quot;&quot;</td><td>null</td><td>1990-07-20</td><td>&quot;1094500&quot;</td><td>[&quot;&quot;]</td><td>&quot;354&quot;</td><td>&quot;&quot;</td><td>&quot;VILA BARUEL&quot;</td><td>&quot;02523040&quot;</td><td>&quot;SP&quot;</td><td>7107</td><td>&quot;&quot;</td><td>&quot;&quot;</td><td>&quot;&quot;</td><td>&quot;&quot;</td><td>&quot;&quot;</td><td>&quot;&quot;</td><td>&quot;&quot;</td><td>&quot;&quot;</td><td>null</td><td>&quot;63950158000142&quot;</td><td>&quot;RUA MANUEL GARCIA&quot;</td></tr><tr><td>1</td><td>&quot;AGROPASTORIL REUNIDAS BAHIA&quot;</td><td>8</td><td>1994-08-31</td><td>9</td><td>&quot;&quot;</td><td>null</td><td>1990-08-21</td><td>&quot;4774100&quot;</td><td>[&quot;&quot;]</td><td>&quot;SN&quot;</td><td>&quot;ESQUERDA&quot;</td><td>&quot;ZONA RURAL&quot;</td><td>&quot;76590000&quot;</td><td>&quot;GO&quot;</td><td>9601</td><td>&quot;&quot;</td><td>&quot;&quot;</td><td>&quot;&quot;</td><td>&quot;&quot;</td><td>&quot;&quot;</td><td>&quot;&quot;</td><td>&quot;&quot;</td><td>&quot;&quot;</td><td>null</td><td>&quot;26711226000194&quot;</td><td>&quot;RODOVIA MUNIC ILHA DO BANANAL&quot;</td></tr></tbody></table></div>"
      ],
      "text/plain": [
       "shape: (2, 27)\n",
       "┌─────────────────┬─────────────────┬─────────────────┬─────────────────┬───┬─────────────────┬─────────────────┬────────────────┬────────────────┐\n",
       "│ identificador_m ┆ nome_fantasia   ┆ situacao_cadast ┆ data_situacao_c ┆ … ┆ situacao_especi ┆ data_situacao_e ┆ cnpj_completo  ┆ logradouro_com │\n",
       "│ atriz           ┆ ---             ┆ ral             ┆ adastral        ┆   ┆ al              ┆ special         ┆ ---            ┆ pleto          │\n",
       "│ ---             ┆ str             ┆ ---             ┆ ---             ┆   ┆ ---             ┆ ---             ┆ str            ┆ ---            │\n",
       "│ i8              ┆                 ┆ i8              ┆ date            ┆   ┆ cat             ┆ date            ┆                ┆ str            │\n",
       "╞═════════════════╪═════════════════╪═════════════════╪═════════════════╪═══╪═════════════════╪═════════════════╪════════════════╪════════════════╡\n",
       "│ 1               ┆ CINTHYA         ┆ 8               ┆ 2021-07-28      ┆ … ┆                 ┆ null            ┆ 63950158000142 ┆ RUA MANUEL     │\n",
       "│                 ┆                 ┆                 ┆                 ┆   ┆                 ┆                 ┆                ┆ GARCIA         │\n",
       "│ 1               ┆ AGROPASTORIL    ┆ 8               ┆ 1994-08-31      ┆ … ┆                 ┆ null            ┆ 26711226000194 ┆ RODOVIA MUNIC  │\n",
       "│                 ┆ REUNIDAS BAHIA  ┆                 ┆                 ┆   ┆                 ┆                 ┆                ┆ ILHA DO        │\n",
       "│                 ┆                 ┆                 ┆                 ┆   ┆                 ┆                 ┆                ┆ BANANAL        │\n",
       "└─────────────────┴─────────────────┴─────────────────┴─────────────────┴───┴─────────────────┴─────────────────┴────────────────┴────────────────┘"
      ]
     },
     "execution_count": 22,
     "metadata": {},
     "output_type": "execute_result"
    }
   ],
   "source": [
    "df_emp.head(2)"
   ]
  },
  {
   "cell_type": "markdown",
   "id": "ce1d4f3e-4f3a-4a20-ad41-ebaa8ae59fef",
   "metadata": {},
   "source": [
    "#### Re ordering"
   ]
  },
  {
   "cell_type": "code",
   "execution_count": 23,
   "id": "d512c732-156c-4f3d-b8e9-cfd3179740d4",
   "metadata": {},
   "outputs": [],
   "source": [
    "df_emp = df_emp.select(['cnpj_completo'] + [col for col in df_emp.columns if col not in ['cnpj_completo']])"
   ]
  },
  {
   "cell_type": "code",
   "execution_count": 24,
   "id": "fc8cec02-8dee-450f-a500-675a0b1eccbc",
   "metadata": {},
   "outputs": [
    {
     "data": {
      "text/html": [
       "<div><style>\n",
       ".dataframe > thead > tr,\n",
       ".dataframe > tbody > tr {\n",
       "  text-align: right;\n",
       "  white-space: pre-wrap;\n",
       "}\n",
       "</style>\n",
       "<small>shape: (5, 27)</small><table border=\"1\" class=\"dataframe\"><thead><tr><th>cnpj_completo</th><th>identificador_matriz</th><th>nome_fantasia</th><th>situacao_cadastral</th><th>data_situacao_cadastral</th><th>motivo_situacao_cadastral</th><th>nome_cidade_exterior</th><th>pais</th><th>data_inicio_atividade</th><th>cnae_principal</th><th>cnae_secundario</th><th>numero</th><th>complemento</th><th>bairro</th><th>cep</th><th>uf</th><th>municipio</th><th>ddd_1</th><th>telefone_1</th><th>ddd_2</th><th>telefone_2</th><th>ddd_fax</th><th>fax</th><th>email</th><th>situacao_especial</th><th>data_situacao_especial</th><th>logradouro_completo</th></tr><tr><td>str</td><td>i8</td><td>str</td><td>i8</td><td>date</td><td>i16</td><td>str</td><td>i32</td><td>date</td><td>str</td><td>list[str]</td><td>str</td><td>str</td><td>str</td><td>str</td><td>cat</td><td>i32</td><td>str</td><td>str</td><td>str</td><td>str</td><td>str</td><td>str</td><td>str</td><td>cat</td><td>date</td><td>str</td></tr></thead><tbody><tr><td>&quot;63950158000142&quot;</td><td>1</td><td>&quot;CINTHYA&quot;</td><td>8</td><td>2021-07-28</td><td>1</td><td>&quot;&quot;</td><td>null</td><td>1990-07-20</td><td>&quot;1094500&quot;</td><td>[&quot;&quot;]</td><td>&quot;354&quot;</td><td>&quot;&quot;</td><td>&quot;VILA BARUEL&quot;</td><td>&quot;02523040&quot;</td><td>&quot;SP&quot;</td><td>7107</td><td>&quot;&quot;</td><td>&quot;&quot;</td><td>&quot;&quot;</td><td>&quot;&quot;</td><td>&quot;&quot;</td><td>&quot;&quot;</td><td>&quot;&quot;</td><td>&quot;&quot;</td><td>null</td><td>&quot;RUA MANUEL GARCIA&quot;</td></tr><tr><td>&quot;26711226000194&quot;</td><td>1</td><td>&quot;AGROPASTORIL REUNIDAS BAHIA&quot;</td><td>8</td><td>1994-08-31</td><td>9</td><td>&quot;&quot;</td><td>null</td><td>1990-08-21</td><td>&quot;4774100&quot;</td><td>[&quot;&quot;]</td><td>&quot;SN&quot;</td><td>&quot;ESQUERDA&quot;</td><td>&quot;ZONA RURAL&quot;</td><td>&quot;76590000&quot;</td><td>&quot;GO&quot;</td><td>9601</td><td>&quot;&quot;</td><td>&quot;&quot;</td><td>&quot;&quot;</td><td>&quot;&quot;</td><td>&quot;&quot;</td><td>&quot;&quot;</td><td>&quot;&quot;</td><td>&quot;&quot;</td><td>null</td><td>&quot;RODOVIA MUNIC ILHA DO BANANAL&quot;</td></tr><tr><td>&quot;63950216000138&quot;</td><td>1</td><td>&quot;&quot;</td><td>8</td><td>2008-12-31</td><td>71</td><td>&quot;&quot;</td><td>null</td><td>1990-07-19</td><td>&quot;8888888&quot;</td><td>[&quot;&quot;]</td><td>&quot;277&quot;</td><td>&quot;&quot;</td><td>&quot;JARDIM CABUCU&quot;</td><td>&quot;02237000&quot;</td><td>&quot;SP&quot;</td><td>7107</td><td>&quot;&quot;</td><td>&quot;&quot;</td><td>&quot;&quot;</td><td>&quot;&quot;</td><td>&quot;&quot;</td><td>&quot;&quot;</td><td>&quot;&quot;</td><td>&quot;&quot;</td><td>null</td><td>&quot;RUA GAL JERONIMO FURTADO&quot;</td></tr><tr><td>&quot;63950224000184&quot;</td><td>1</td><td>&quot;&quot;</td><td>8</td><td>2008-04-14</td><td>1</td><td>&quot;&quot;</td><td>null</td><td>1990-07-20</td><td>&quot;5611203&quot;</td><td>[&quot;&quot;]</td><td>&quot;500&quot;</td><td>&quot;&quot;</td><td>&quot;JARDIM UBIRAMA&quot;</td><td>&quot;18683540&quot;</td><td>&quot;SP&quot;</td><td>6637</td><td>&quot;&quot;</td><td>&quot;&quot;</td><td>&quot;&quot;</td><td>&quot;&quot;</td><td>&quot;&quot;</td><td>&quot;&quot;</td><td>&quot;&quot;</td><td>&quot;&quot;</td><td>null</td><td>&quot;RUA MANOEL CAETANO DE GODOY&quot;</td></tr><tr><td>&quot;63950364000152&quot;</td><td>1</td><td>&quot;&quot;</td><td>8</td><td>1992-05-27</td><td>1</td><td>&quot;&quot;</td><td>null</td><td>1990-07-20</td><td>&quot;8888888&quot;</td><td>[&quot;&quot;]</td><td>&quot;101&quot;</td><td>&quot;&quot;</td><td>&quot;VILA VERA&quot;</td><td>&quot;08210040&quot;</td><td>&quot;SP&quot;</td><td>7107</td><td>&quot;&quot;</td><td>&quot;&quot;</td><td>&quot;&quot;</td><td>&quot;&quot;</td><td>&quot;&quot;</td><td>&quot;&quot;</td><td>&quot;&quot;</td><td>&quot;&quot;</td><td>null</td><td>&quot;AVENIDA CEL JOSE PIRES ANDRADE&quot;</td></tr></tbody></table></div>"
      ],
      "text/plain": [
       "shape: (5, 27)\n",
       "┌────────────────┬───────────────────┬───────────────────┬───────────────────┬───┬───────┬──────────────────┬──────────────────┬──────────────────┐\n",
       "│ cnpj_completo  ┆ identificador_mat ┆ nome_fantasia     ┆ situacao_cadastra ┆ … ┆ email ┆ situacao_especia ┆ data_situacao_es ┆ logradouro_compl │\n",
       "│ ---            ┆ riz               ┆ ---               ┆ l                 ┆   ┆ ---   ┆ l                ┆ pecial           ┆ eto              │\n",
       "│ str            ┆ ---               ┆ str               ┆ ---               ┆   ┆ str   ┆ ---              ┆ ---              ┆ ---              │\n",
       "│                ┆ i8                ┆                   ┆ i8                ┆   ┆       ┆ cat              ┆ date             ┆ str              │\n",
       "╞════════════════╪═══════════════════╪═══════════════════╪═══════════════════╪═══╪═══════╪══════════════════╪══════════════════╪══════════════════╡\n",
       "│ 63950158000142 ┆ 1                 ┆ CINTHYA           ┆ 8                 ┆ … ┆       ┆                  ┆ null             ┆ RUA MANUEL       │\n",
       "│                ┆                   ┆                   ┆                   ┆   ┆       ┆                  ┆                  ┆ GARCIA           │\n",
       "│ 26711226000194 ┆ 1                 ┆ AGROPASTORIL      ┆ 8                 ┆ … ┆       ┆                  ┆ null             ┆ RODOVIA MUNIC    │\n",
       "│                ┆                   ┆ REUNIDAS BAHIA    ┆                   ┆   ┆       ┆                  ┆                  ┆ ILHA DO BANANAL  │\n",
       "│ 63950216000138 ┆ 1                 ┆                   ┆ 8                 ┆ … ┆       ┆                  ┆ null             ┆ RUA GAL JERONIMO │\n",
       "│                ┆                   ┆                   ┆                   ┆   ┆       ┆                  ┆                  ┆ FURTADO          │\n",
       "│ 63950224000184 ┆ 1                 ┆                   ┆ 8                 ┆ … ┆       ┆                  ┆ null             ┆ RUA MANOEL       │\n",
       "│                ┆                   ┆                   ┆                   ┆   ┆       ┆                  ┆                  ┆ CAETANO DE GODOY │\n",
       "│ 63950364000152 ┆ 1                 ┆                   ┆ 8                 ┆ … ┆       ┆                  ┆ null             ┆ AVENIDA CEL JOSE │\n",
       "│                ┆                   ┆                   ┆                   ┆   ┆       ┆                  ┆                  ┆ PIRES ANDRADE    │\n",
       "└────────────────┴───────────────────┴───────────────────┴───────────────────┴───┴───────┴──────────────────┴──────────────────┴──────────────────┘"
      ]
     },
     "execution_count": 24,
     "metadata": {},
     "output_type": "execute_result"
    }
   ],
   "source": [
    "df_emp.head(5)"
   ]
  },
  {
   "cell_type": "markdown",
   "id": "90cd6034-0118-46f8-a561-3aba900f0a35",
   "metadata": {},
   "source": [
    "#### Dump to parquet in domain layer"
   ]
  },
  {
   "cell_type": "code",
   "execution_count": 25,
   "id": "31fbc275-b662-4178-8827-1a39a6646789",
   "metadata": {},
   "outputs": [],
   "source": [
    "dump_file_name = os.listdir('data/raw/extract/')[0]"
   ]
  },
  {
   "cell_type": "code",
   "execution_count": 30,
   "id": "897f1eba-5a4a-4d2d-b61a-f453768514c0",
   "metadata": {},
   "outputs": [],
   "source": [
    "df_emp.write_parquet(f\"C:/Users/Jonas/Documents/github/empresa-etl/data/domain/{extract_dir[i]}_silver.parquet\")\n",
    "del df_emp"
   ]
  },
  {
   "cell_type": "code",
   "execution_count": null,
   "id": "499d634f-df4e-441e-9f26-4975bc63c0c4",
   "metadata": {},
   "outputs": [],
   "source": []
  }
 ],
 "metadata": {
  "kernelspec": {
   "display_name": "Python 3 (ipykernel)",
   "language": "python",
   "name": "python3"
  },
  "language_info": {
   "codemirror_mode": {
    "name": "ipython",
    "version": 3
   },
   "file_extension": ".py",
   "mimetype": "text/x-python",
   "name": "python",
   "nbconvert_exporter": "python",
   "pygments_lexer": "ipython3",
   "version": "3.10.1"
  }
 },
 "nbformat": 4,
 "nbformat_minor": 5
}
